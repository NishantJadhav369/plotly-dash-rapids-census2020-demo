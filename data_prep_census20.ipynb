{
 "cells": [
  {
   "cell_type": "code",
   "execution_count": null,
   "id": "4c6a4117-f8af-4b7d-ad34-100500f2b5c8",
   "metadata": {},
   "outputs": [],
   "source": [
    "import cudf\n",
    "from pyproj import Transformer, CRS\n",
    "import pandas as pd\n",
    "import numpy as np\n",
    "import sys,os,datetime,random\n",
    "import geopandas as gpd\n",
    "from shapely.geometry import Point"
   ]
  },
  {
   "cell_type": "code",
   "execution_count": null,
   "id": "ee33fa1c-ac5d-4447-b807-37cde2428e40",
   "metadata": {},
   "outputs": [],
   "source": [
    "full_path='census_2020_data/census2020.csv'\n",
    "small_path = 'census_2020_data/census2020_small.csv' \n",
    "small_indv_path='census_2020_data/census2020_individuals_sm.csv'"
   ]
  },
  {
   "cell_type": "code",
   "execution_count": null,
   "id": "827f0975-f127-4fda-8355-02ae05e0c270",
   "metadata": {},
   "outputs": [],
   "source": [
    "df = pd.read_csv(small_path,skiprows=[1],encoding='unicode_escape',usecols=['GEOCODE','STATE','STATEA','REGIONA','COUNTYA','BLOCKA','AREALAND','AREAWATR','INTPTLAT','INTPTLON','U7B001','U7B002','U7B009','U7B026','U7B047','U7B063','U7B070']).drop(0)\n",
    "df.head()"
   ]
  },
  {
   "cell_type": "markdown",
   "id": "2b3402cb-7949-4ec1-964e-795d44dae316",
   "metadata": {
    "jp-MarkdownHeadingCollapsed": true,
    "tags": []
   },
   "source": [
    "### Random points"
   ]
  },
  {
   "cell_type": "code",
   "execution_count": null,
   "id": "3dc86315-893b-4d1f-887b-d42065a5d93c",
   "metadata": {},
   "outputs": [],
   "source": [
    "states = {1 :\"AL\",2 :\"AK\",4 :\"AZ\",5 :\"AR\",6 :\"CA\"}"
   ]
  },
  {
   "cell_type": "code",
   "execution_count": null,
   "id": "ae3d4d01-76c7-40a2-a3f2-0a8656364870",
   "metadata": {},
   "outputs": [],
   "source": [
    "df.head(2)"
   ]
  },
  {
   "cell_type": "code",
   "execution_count": null,
   "id": "c14d527f-e388-4e39-9382-55ab6dccd4ae",
   "metadata": {},
   "outputs": [],
   "source": [
    "path = 'census_2020_data/tl_2021_01_tabblock20/tl_2021_01_tabblock20.shp'\n",
    "gpdf = gpd.read_file(path)\n",
    "gpdf.head()"
   ]
  },
  {
   "cell_type": "code",
   "execution_count": null,
   "id": "e45c67cb-0739-49b7-b816-f9563c09c141",
   "metadata": {},
   "outputs": [],
   "source": [
    "def random_points_in_polygon(number, polygon):\n",
    "    points_x = np.array([])\n",
    "    points_y = np.array([])\n",
    "    min_x, min_y, max_x, max_y = polygon.bounds\n",
    "    i= 0\n",
    "    while i < number:\n",
    "        point_x = random.uniform(min_x, max_x)\n",
    "        point_y = random.uniform(min_y, max_y)\n",
    "        if polygon.contains(Point(point_x, point_y)):\n",
    "            points_x = np.append(points_x, point_x)\n",
    "            points_y = np.append(points_y, point_y)\n",
    "            i += 1\n",
    "    return points_x, points_y # returns list of points(lat), list of points(long)"
   ]
  },
  {
   "cell_type": "code",
   "execution_count": null,
   "id": "b7570613-afa7-4fbb-9ff1-f97ffe510787",
   "metadata": {},
   "outputs": [],
   "source": [
    "def generate_data(state, df_temp, gpdf):\n",
    "    t1 = datetime.datetime.now()\n",
    "    geoid_index_df = df_temp.index.to_numpy()\n",
    "    final_points_x = np.array([])\n",
    "    final_points_y = np.array([])\n",
    "    geoid = np.array([])\n",
    "    \n",
    "    for index, row in gpdf.iterrows():\n",
    "        points_x = np.array([])\n",
    "        points_y = np.array([])\n",
    "        geoid_temp = np.array([])\n",
    "        if row['GEOID20'] in geoid_index_df and df_temp.loc[row['GEOID20']]>0:\n",
    "            num_points = df_temp.loc[row['GEOID20']]\n",
    "            polygon = row['geometry']\n",
    "            if polygon is not None:\n",
    "                points_x, points_y = random_points_in_polygon(num_points, polygon)\n",
    "                geoid_temp = np.array([row['GEOID20']]*len(points_x))\n",
    "                geoid = np.append(geoid,geoid_temp)\n",
    "                final_points_x = np.append(final_points_x, points_x)\n",
    "                # print(final_points_x)\n",
    "                final_points_y = np.append(final_points_y, points_y)\n",
    "                print('Processing '+str(state)+' - Completed:', \"{0:0.2f}\".format((index/len(gpdf))*100), '%', end='')\n",
    "                print('', end='\\r')\n",
    "\n",
    "    print('Processing for '+str(state)+' complete \\n total time', datetime.datetime.now() - t1)\n",
    "    \n",
    "    df_fin = cudf.DataFrame({'GEOID20': geoid,'x': final_points_x, 'y':final_points_y})\n",
    "    df_fin.GEOID20 = df_fin.GEOID20[1:].astype('int').astype('str')\n",
    "    df_fin.to_csv('census_2020_data/population_'+str(state)+'.csv', index=False)"
   ]
  },
  {
   "cell_type": "code",
   "execution_count": null,
   "id": "6617729e-d263-4fc4-8271-5817e9b4143a",
   "metadata": {},
   "outputs": [],
   "source": [
    "def exec_data(state_key_list):\n",
    "    c=0\n",
    "    for i in state_key_list:\n",
    "        print(i)\n",
    "        c+=1\n",
    "        if i< 10:\n",
    "            i_str = '0'+str(i)\n",
    "        else:\n",
    "            i_str = str(i)\n",
    "        path = 'census_2020_data/tl_2021_%s_tabblock20/tl_2021_%s_tabblock20.shp'%(i_str,i_str)\n",
    "        #print(path)\n",
    "        print(\"started reading shape file for state \", states[i])\n",
    "        if os.path.isfile(path):    \n",
    "            gpdf = gpd.read_file(path)[['GEOID20', 'geometry']]\n",
    "            gpdf.GEOID20 = gpdf.GEOID20[1:].astype('int64')\n",
    "            print(\"completed reading shape file for state \", states[i])\n",
    "            df_temp = df.query('STATEA == @i')[['GEOCODE', 'U7B001']]\n",
    "            df_temp.index = df_temp.GEOCODE\n",
    "            df_temp = df_temp['U7B001']\n",
    "            # print(gpdf.head(3))\n",
    "            # print(gpdf)\n",
    "            print(\"starting to generate data for \"+str(states[i])+\"... \")\n",
    "            generate_data(states[i], df_temp, gpdf)\n",
    "            del(df_temp)\n",
    "        else:\n",
    "            print(\"shape file does not exist\")\n",
    "            continue\n",
    "        # if c==2:\n",
    "        #     break"
   ]
  },
  {
   "cell_type": "code",
   "execution_count": null,
   "id": "8b2256c5-ab76-452a-b728-0184c2043660",
   "metadata": {},
   "outputs": [],
   "source": [
    "exec_data(states.keys())"
   ]
  },
  {
   "cell_type": "markdown",
   "id": "238c9cc9-cae0-4b00-9878-a6be3ed67f10",
   "metadata": {
    "tags": []
   },
   "source": [
    "### Concat state"
   ]
  },
  {
   "cell_type": "code",
   "execution_count": null,
   "id": "b75f2f81-3fbe-4c6a-8714-3ac307dac38d",
   "metadata": {},
   "outputs": [],
   "source": [
    "df.head(2)"
   ]
  },
  {
   "cell_type": "code",
   "execution_count": null,
   "id": "50561084-1c3d-45d0-89f8-ec0a3fdeaec2",
   "metadata": {},
   "outputs": [],
   "source": [
    "df3 = cudf.read_csv('census_2020_data/population_%s.csv'%('AL'), usecols=['GEOID20','x', 'y'])\n",
    "df3.head(3)"
   ]
  },
  {
   "cell_type": "code",
   "execution_count": null,
   "id": "adec56c1-ec3c-4ca2-b03c-67fb7698f2c6",
   "metadata": {},
   "outputs": [],
   "source": [
    "inProj = '+proj=aea +lat_1=29.5 +lat_2=45.5 +lat_0=37.5 +lon_0=-96 +x_0=0 +y_0=0 +datum=NAD83 +units=m +no_defs' # Latitude and longitudes\n",
    "outProj = 'epsg:4326' # 2D projected points\n",
    "transformer = Transformer.from_crs(inProj, outProj, always_xy=True)\n",
    "transformer.transform(df3['x'].to_numpy(), df3['y'].to_numpy())"
   ]
  },
  {
   "cell_type": "code",
   "execution_count": null,
   "id": "a2899a22-bae3-40ce-9b13-f27fee87863d",
   "metadata": {},
   "outputs": [],
   "source": [
    "def read_state(state):\n",
    "    print(state)\n",
    "    print('reading '+state,end='\\r')\n",
    "    df2 = cudf.read_csv('census_2020_data/population_%s.csv'%(state), usecols=['GEOID20','x', 'y'])\n",
    "    #print(df2)\n",
    "    df2.GEOID20 = df2.GEOID20.fillna(method='bfill') # first row in every state has NA\n",
    "    df2.GEOID20 = df2.GEOID20.fillna(method='ffill') # first row in every state has NA\n",
    "    # print(df2[['x','y']])\n",
    "    \n",
    "    inProj = '+proj=aea +lat_1=29.5 +lat_2=45.5 +lat_0=37.5 +lon_0=-96 +x_0=0 +y_0=0 +datum=NAD83 +units=m +no_defs' # Latitude and longitudes\n",
    "    outProj = 'epsg:4326' # 2D projected points\n",
    "    transformer = Transformer.from_crs(inProj, outProj, always_xy=True)\n",
    "    df2['x1'], df2['y1'] = transformer.transform(df2['x'].to_numpy(), df2['y'].to_numpy()) # Apply transformation\n",
    "    # print('completed',end='\\r')\n",
    "    # print(df2[['x1','y1']])\n",
    "    return df2"
   ]
  },
  {
   "cell_type": "code",
   "execution_count": null,
   "id": "84ce7227-a27b-4a7f-8f19-d6549db5df7d",
   "metadata": {},
   "outputs": [],
   "source": [
    "df.rename(columns={\"GEOCODE\":\"GEOID20\"},inplace=True)\n",
    "df.head(2)"
   ]
  },
  {
   "cell_type": "code",
   "execution_count": null,
   "id": "ebdb559d-dcc4-4ae1-b202-19ad46ee5d1a",
   "metadata": {},
   "outputs": [],
   "source": [
    "df1 = [read_state(x) for x in list(states.values())]\n",
    "final_df = cudf.concat(df1)\n",
    "del(df1)\n",
    "final_df = final_df.reset_index(drop=True)\n",
    "final_df['p_id'] = final_df.index.astype('int32')\n",
    "dataset = cudf.merge(final_df[['GEOID20','x','y','p_id']],cudf.from_pandas(df),on='GEOID20')\n",
    "dataset.head()"
   ]
  },
  {
   "cell_type": "code",
   "execution_count": null,
   "id": "dd3eb29c-d1a2-4b28-9454-d8aad5afeeb3",
   "metadata": {},
   "outputs": [],
   "source": [
    "df3 = dataset.to_pandas()\n",
    "df3.GEOID20 = df3.GEOID20.apply(lambda x: int(x))\n",
    "final_data = cudf.from_pandas(df3)\n",
    "final_data.head(2)"
   ]
  },
  {
   "cell_type": "code",
   "execution_count": null,
   "id": "9011b816-acf0-4b83-a073-483d737136e7",
   "metadata": {},
   "outputs": [],
   "source": [
    "final_data.tail()"
   ]
  },
  {
   "cell_type": "code",
   "execution_count": null,
   "id": "1da3d9a0-8dcb-4c3a-a0fb-29c514a82bf6",
   "metadata": {},
   "outputs": [],
   "source": [
    "final_data.columns"
   ]
  },
  {
   "cell_type": "code",
   "execution_count": null,
   "id": "982bbd0a-4003-4304-9796-f86ccc1f93fd",
   "metadata": {},
   "outputs": [],
   "source": [
    "# final_data.to_csv('census_2020_data/census2020_individuals_sm.csv')"
   ]
  },
  {
   "cell_type": "code",
   "execution_count": null,
   "id": "186c4f53-4ff0-430c-8c84-639697857599",
   "metadata": {},
   "outputs": [],
   "source": []
  }
 ],
 "metadata": {
  "kernelspec": {
   "display_name": "Python 3 (ipykernel)",
   "language": "python",
   "name": "python3"
  },
  "language_info": {
   "codemirror_mode": {
    "name": "ipython",
    "version": 3
   },
   "file_extension": ".py",
   "mimetype": "text/x-python",
   "name": "python",
   "nbconvert_exporter": "python",
   "pygments_lexer": "ipython3",
   "version": "3.9.13"
  }
 },
 "nbformat": 4,
 "nbformat_minor": 5
}
