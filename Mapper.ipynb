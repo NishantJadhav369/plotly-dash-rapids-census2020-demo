{
 "cells": [
  {
   "cell_type": "code",
   "execution_count": 50,
   "id": "a9e480d8-272f-4f73-875c-e965d2566467",
   "metadata": {},
   "outputs": [],
   "source": [
    "import pandas as pd\n",
    "import geopandas as gpd\n",
    "import ast,os,random\n",
    "pd.set_option('display.float_format','{:.0f}'.format)\n",
    "import warnings\n",
    "warnings.filterwarnings('ignore')\n",
    "import cudf\n",
    "# pd.set_option('display.max_colwidth', -1)"
   ]
  },
  {
   "cell_type": "markdown",
   "id": "043ed6e6-d052-4eac-bf14-c809aa8bcc46",
   "metadata": {
    "tags": []
   },
   "source": [
    "#### Load Data"
   ]
  },
  {
   "cell_type": "code",
   "execution_count": 73,
   "id": "a35321e8-39e1-4d6e-9fcc-16900937636e",
   "metadata": {},
   "outputs": [],
   "source": [
    "full_2020_path='census_2020_data/nhgis0007_csv/nhgis0007_ds248_2020_block.csv'\n",
    "full_2010_path='census_2010_data/nhgis0001_ds172_2010_block.csv'"
   ]
  },
  {
   "cell_type": "markdown",
   "id": "4e9bcdef-ca9d-488b-9f07-f0ecf02c37db",
   "metadata": {},
   "source": [
    "#### Prepare 2010 data"
   ]
  },
  {
   "cell_type": "code",
   "execution_count": 131,
   "id": "e39f2b9c-0cf9-491e-92f6-7c790657fa71",
   "metadata": {},
   "outputs": [],
   "source": [
    "full = pd.read_csv(full_2010_path, usecols=['GISJOIN', 'H7V001' ,'STATEA'],encoding='unicode_escape')\n",
    "small = full[ (full.STATEA ==15) | (full.STATEA ==10) | (full.STATEA ==11)] \n",
    "data10 = cudf.from_pandas(small)\n",
    "del(full)"
   ]
  },
  {
   "cell_type": "code",
   "execution_count": 132,
   "id": "566ddf39-691f-4920-8fd6-23e16537f622",
   "metadata": {},
   "outputs": [
    {
     "data": {
      "text/html": [
       "<div>\n",
       "<style scoped>\n",
       "    .dataframe tbody tr th:only-of-type {\n",
       "        vertical-align: middle;\n",
       "    }\n",
       "\n",
       "    .dataframe tbody tr th {\n",
       "        vertical-align: top;\n",
       "    }\n",
       "\n",
       "    .dataframe thead th {\n",
       "        text-align: right;\n",
       "    }\n",
       "</style>\n",
       "<table border=\"1\" class=\"dataframe\">\n",
       "  <thead>\n",
       "    <tr style=\"text-align: right;\">\n",
       "      <th></th>\n",
       "      <th>GISJOIN</th>\n",
       "      <th>STATE</th>\n",
       "      <th>P10</th>\n",
       "    </tr>\n",
       "  </thead>\n",
       "  <tbody>\n",
       "    <tr>\n",
       "      <th>1704220</th>\n",
       "      <td>10000100401001000</td>\n",
       "      <td>10</td>\n",
       "      <td>77</td>\n",
       "    </tr>\n",
       "    <tr>\n",
       "      <th>1704221</th>\n",
       "      <td>10000100401001001</td>\n",
       "      <td>10</td>\n",
       "      <td>294</td>\n",
       "    </tr>\n",
       "    <tr>\n",
       "      <th>1704222</th>\n",
       "      <td>10000100401001002</td>\n",
       "      <td>10</td>\n",
       "      <td>20</td>\n",
       "    </tr>\n",
       "    <tr>\n",
       "      <th>1704223</th>\n",
       "      <td>10000100401001003</td>\n",
       "      <td>10</td>\n",
       "      <td>91</td>\n",
       "    </tr>\n",
       "    <tr>\n",
       "      <th>1704224</th>\n",
       "      <td>10000100401001004</td>\n",
       "      <td>10</td>\n",
       "      <td>53</td>\n",
       "    </tr>\n",
       "  </tbody>\n",
       "</table>\n",
       "</div>"
      ],
      "text/plain": [
       "                   GISJOIN  STATE  P10\n",
       "1704220  10000100401001000     10   77\n",
       "1704221  10000100401001001     10  294\n",
       "1704222  10000100401001002     10   20\n",
       "1704223  10000100401001003     10   91\n",
       "1704224  10000100401001004     10   53"
      ]
     },
     "execution_count": 132,
     "metadata": {},
     "output_type": "execute_result"
    }
   ],
   "source": [
    "data10.GISJOIN = data10.GISJOIN.str.replace('G', '')\n",
    "data10.rename(columns={'H7V001':'P10','STATEA':'STATE'},inplace=True)\n",
    "data10.head()"
   ]
  },
  {
   "cell_type": "code",
   "execution_count": 133,
   "id": "9f222ab2-2840-4c43-8060-85fe01712907",
   "metadata": {},
   "outputs": [],
   "source": [
    "def GISJOIN_to_ID(gisjoin):\n",
    "    return  int(gisjoin[:2] + gisjoin[3:6] +gisjoin[7:])"
   ]
  },
  {
   "cell_type": "code",
   "execution_count": 134,
   "id": "9284745d-68a3-43cc-8f98-c610bd1e898c",
   "metadata": {},
   "outputs": [],
   "source": [
    "data10['ID10'] = data10.to_pandas().GISJOIN.apply(GISJOIN_to_ID)\n",
    "data10.GISJOIN = data10.GISJOIN.astype('int')"
   ]
  },
  {
   "cell_type": "code",
   "execution_count": 135,
   "id": "0c814443-ddec-439e-bd89-e377f2362b5b",
   "metadata": {},
   "outputs": [
    {
     "data": {
      "text/html": [
       "<div>\n",
       "<style scoped>\n",
       "    .dataframe tbody tr th:only-of-type {\n",
       "        vertical-align: middle;\n",
       "    }\n",
       "\n",
       "    .dataframe tbody tr th {\n",
       "        vertical-align: top;\n",
       "    }\n",
       "\n",
       "    .dataframe thead th {\n",
       "        text-align: right;\n",
       "    }\n",
       "</style>\n",
       "<table border=\"1\" class=\"dataframe\">\n",
       "  <thead>\n",
       "    <tr style=\"text-align: right;\">\n",
       "      <th></th>\n",
       "      <th>GISJOIN</th>\n",
       "      <th>STATE</th>\n",
       "      <th>P10</th>\n",
       "      <th>ID10</th>\n",
       "    </tr>\n",
       "  </thead>\n",
       "  <tbody>\n",
       "    <tr>\n",
       "      <th>1704220</th>\n",
       "      <td>10000100401001000</td>\n",
       "      <td>10</td>\n",
       "      <td>77</td>\n",
       "      <td>100010401001000</td>\n",
       "    </tr>\n",
       "    <tr>\n",
       "      <th>1704221</th>\n",
       "      <td>10000100401001001</td>\n",
       "      <td>10</td>\n",
       "      <td>294</td>\n",
       "      <td>100010401001001</td>\n",
       "    </tr>\n",
       "    <tr>\n",
       "      <th>1704222</th>\n",
       "      <td>10000100401001002</td>\n",
       "      <td>10</td>\n",
       "      <td>20</td>\n",
       "      <td>100010401001002</td>\n",
       "    </tr>\n",
       "    <tr>\n",
       "      <th>1704223</th>\n",
       "      <td>10000100401001003</td>\n",
       "      <td>10</td>\n",
       "      <td>91</td>\n",
       "      <td>100010401001003</td>\n",
       "    </tr>\n",
       "    <tr>\n",
       "      <th>1704224</th>\n",
       "      <td>10000100401001004</td>\n",
       "      <td>10</td>\n",
       "      <td>53</td>\n",
       "      <td>100010401001004</td>\n",
       "    </tr>\n",
       "  </tbody>\n",
       "</table>\n",
       "</div>"
      ],
      "text/plain": [
       "                   GISJOIN  STATE  P10             ID10\n",
       "1704220  10000100401001000     10   77  100010401001000\n",
       "1704221  10000100401001001     10  294  100010401001001\n",
       "1704222  10000100401001002     10   20  100010401001002\n",
       "1704223  10000100401001003     10   91  100010401001003\n",
       "1704224  10000100401001004     10   53  100010401001004"
      ]
     },
     "execution_count": 135,
     "metadata": {},
     "output_type": "execute_result"
    }
   ],
   "source": [
    "data10.head()"
   ]
  },
  {
   "cell_type": "markdown",
   "id": "dd85c23e-436c-432a-820d-601c1ddc9324",
   "metadata": {},
   "source": [
    "#### Prepare 2020 data"
   ]
  },
  {
   "cell_type": "code",
   "execution_count": 108,
   "id": "8b9a9d81-30fe-43b3-87ca-40dbfef6085c",
   "metadata": {},
   "outputs": [],
   "source": [
    "full = pd.read_csv(full_2020_path,skiprows=[1],encoding='unicode_escape',usecols=['GEOCODE','GISJOIN','STATEA','COUNTY','U7B001'])\n",
    "small = full[ (full.STATEA ==15) | (full.STATEA ==10) | (full.STATEA ==11)] \n",
    "data20 = cudf.from_pandas(small)\n",
    "del(full)"
   ]
  },
  {
   "cell_type": "code",
   "execution_count": 109,
   "id": "cf0bf0a4-dd54-4625-b20a-1752e84aabbd",
   "metadata": {},
   "outputs": [
    {
     "data": {
      "text/html": [
       "<div>\n",
       "<style scoped>\n",
       "    .dataframe tbody tr th:only-of-type {\n",
       "        vertical-align: middle;\n",
       "    }\n",
       "\n",
       "    .dataframe tbody tr th {\n",
       "        vertical-align: top;\n",
       "    }\n",
       "\n",
       "    .dataframe thead th {\n",
       "        text-align: right;\n",
       "    }\n",
       "</style>\n",
       "<table border=\"1\" class=\"dataframe\">\n",
       "  <thead>\n",
       "    <tr style=\"text-align: right;\">\n",
       "      <th></th>\n",
       "      <th>GISJOIN</th>\n",
       "      <th>ID20</th>\n",
       "      <th>STATE</th>\n",
       "      <th>COUNTY</th>\n",
       "      <th>P20</th>\n",
       "    </tr>\n",
       "  </thead>\n",
       "  <tbody>\n",
       "    <tr>\n",
       "      <th>1216403</th>\n",
       "      <td>10000100401001000</td>\n",
       "      <td>100010401001000</td>\n",
       "      <td>10</td>\n",
       "      <td>Kent County</td>\n",
       "      <td>108</td>\n",
       "    </tr>\n",
       "    <tr>\n",
       "      <th>1216404</th>\n",
       "      <td>10000100401001001</td>\n",
       "      <td>100010401001001</td>\n",
       "      <td>10</td>\n",
       "      <td>Kent County</td>\n",
       "      <td>44</td>\n",
       "    </tr>\n",
       "    <tr>\n",
       "      <th>1216405</th>\n",
       "      <td>10000100401001002</td>\n",
       "      <td>100010401001002</td>\n",
       "      <td>10</td>\n",
       "      <td>Kent County</td>\n",
       "      <td>74</td>\n",
       "    </tr>\n",
       "    <tr>\n",
       "      <th>1216406</th>\n",
       "      <td>10000100401001003</td>\n",
       "      <td>100010401001003</td>\n",
       "      <td>10</td>\n",
       "      <td>Kent County</td>\n",
       "      <td>60</td>\n",
       "    </tr>\n",
       "    <tr>\n",
       "      <th>1216407</th>\n",
       "      <td>10000100401001004</td>\n",
       "      <td>100010401001004</td>\n",
       "      <td>10</td>\n",
       "      <td>Kent County</td>\n",
       "      <td>12</td>\n",
       "    </tr>\n",
       "  </tbody>\n",
       "</table>\n",
       "</div>"
      ],
      "text/plain": [
       "                   GISJOIN             ID20  STATE       COUNTY  P20\n",
       "1216403  10000100401001000  100010401001000     10  Kent County  108\n",
       "1216404  10000100401001001  100010401001001     10  Kent County   44\n",
       "1216405  10000100401001002  100010401001002     10  Kent County   74\n",
       "1216406  10000100401001003  100010401001003     10  Kent County   60\n",
       "1216407  10000100401001004  100010401001004     10  Kent County   12"
      ]
     },
     "execution_count": 109,
     "metadata": {},
     "output_type": "execute_result"
    }
   ],
   "source": [
    "# df = small.copy()\n",
    "data20.rename(columns={'U7B001':'P20','GEOCODE':'ID20','STATEA':'STATE'},inplace=True)\n",
    "data20.GISJOIN = data20.GISJOIN.str.replace('G', '').astype('int')\n",
    "data20.head()"
   ]
  },
  {
   "cell_type": "markdown",
   "id": "de979e52-5821-4448-8d24-a18e207cffe8",
   "metadata": {
    "tags": []
   },
   "source": [
    "### Mapper "
   ]
  },
  {
   "cell_type": "markdown",
   "id": "fa404aeb-7e15-4e60-8808-a167036ab838",
   "metadata": {
    "tags": []
   },
   "source": [
    "#### Concat mapper files for states"
   ]
  },
  {
   "cell_type": "code",
   "execution_count": 138,
   "id": "71392b15-993d-4263-98ff-b10c33f5b701",
   "metadata": {},
   "outputs": [],
   "source": [
    "states = { 15:\"HI\", 10:\"DE\",11:\"DC\"}"
   ]
  },
  {
   "cell_type": "code",
   "execution_count": 139,
   "id": "f3cff1f3-5ec8-45d0-b831-3d3a092908dc",
   "metadata": {},
   "outputs": [],
   "source": [
    "def concat_states_mapper(state_key_list): \n",
    "    \n",
    "    concat_mapper = pd.DataFrame()\n",
    "    for i in state_key_list:\n",
    "        if i< 10:\n",
    "            i_str = '0'+str(i)\n",
    "        else:\n",
    "            i_str = str(i)\n",
    "        path = 'census_full/mapper_files/tab2010_tab2020_st%s_%s.csv'%(i_str,states[i].lower())\n",
    "        if os.path.isfile(path):    \n",
    "            mapper = pd.read_csv(path,delimiter='|')\n",
    "            concat_mapper = pd.concat([concat_mapper,mapper])\n",
    "        else:\n",
    "            print(\"mapper file does not exist\")\n",
    "            continue\n",
    "    return concat_mapper"
   ]
  },
  {
   "cell_type": "code",
   "execution_count": 140,
   "id": "900eaf04-28de-480d-8419-bcf789547a87",
   "metadata": {},
   "outputs": [
    {
     "data": {
      "text/html": [
       "<div>\n",
       "<style scoped>\n",
       "    .dataframe tbody tr th:only-of-type {\n",
       "        vertical-align: middle;\n",
       "    }\n",
       "\n",
       "    .dataframe tbody tr th {\n",
       "        vertical-align: top;\n",
       "    }\n",
       "\n",
       "    .dataframe thead th {\n",
       "        text-align: right;\n",
       "    }\n",
       "</style>\n",
       "<table border=\"1\" class=\"dataframe\">\n",
       "  <thead>\n",
       "    <tr style=\"text-align: right;\">\n",
       "      <th></th>\n",
       "      <th>STATE_2010</th>\n",
       "      <th>COUNTY_2010</th>\n",
       "      <th>TRACT_2010</th>\n",
       "      <th>BLK_2010</th>\n",
       "      <th>BLKSF_2010</th>\n",
       "      <th>AREALAND_2010</th>\n",
       "      <th>AREAWATER_2010</th>\n",
       "      <th>BLOCK_PART_FLAG_O</th>\n",
       "      <th>STATE_2020</th>\n",
       "      <th>COUNTY_2020</th>\n",
       "      <th>TRACT_2020</th>\n",
       "      <th>BLK_2020</th>\n",
       "      <th>BLKSF_2020</th>\n",
       "      <th>AREALAND_2020</th>\n",
       "      <th>AREAWATER_2020</th>\n",
       "      <th>BLOCK_PART_FLAG_R</th>\n",
       "      <th>AREALAND_INT</th>\n",
       "      <th>AREAWATER_INT</th>\n",
       "    </tr>\n",
       "  </thead>\n",
       "  <tbody>\n",
       "    <tr>\n",
       "      <th>0</th>\n",
       "      <td>15</td>\n",
       "      <td>1</td>\n",
       "      <td>20100</td>\n",
       "      <td>1000</td>\n",
       "      <td>NaN</td>\n",
       "      <td>9903</td>\n",
       "      <td>0</td>\n",
       "      <td>NaN</td>\n",
       "      <td>15</td>\n",
       "      <td>1</td>\n",
       "      <td>20100</td>\n",
       "      <td>3062</td>\n",
       "      <td>NaN</td>\n",
       "      <td>211979</td>\n",
       "      <td>3464</td>\n",
       "      <td>p</td>\n",
       "      <td>9903</td>\n",
       "      <td>0</td>\n",
       "    </tr>\n",
       "    <tr>\n",
       "      <th>1</th>\n",
       "      <td>15</td>\n",
       "      <td>1</td>\n",
       "      <td>20100</td>\n",
       "      <td>1001</td>\n",
       "      <td>NaN</td>\n",
       "      <td>174797</td>\n",
       "      <td>0</td>\n",
       "      <td>NaN</td>\n",
       "      <td>15</td>\n",
       "      <td>1</td>\n",
       "      <td>20100</td>\n",
       "      <td>3062</td>\n",
       "      <td>NaN</td>\n",
       "      <td>211979</td>\n",
       "      <td>3464</td>\n",
       "      <td>p</td>\n",
       "      <td>174797</td>\n",
       "      <td>0</td>\n",
       "    </tr>\n",
       "  </tbody>\n",
       "</table>\n",
       "</div>"
      ],
      "text/plain": [
       "   STATE_2010  COUNTY_2010  TRACT_2010  BLK_2010  BLKSF_2010  AREALAND_2010  \\\n",
       "0          15            1       20100      1000         NaN           9903   \n",
       "1          15            1       20100      1001         NaN         174797   \n",
       "\n",
       "   AREAWATER_2010 BLOCK_PART_FLAG_O  STATE_2020  COUNTY_2020  TRACT_2020  \\\n",
       "0               0               NaN          15            1       20100   \n",
       "1               0               NaN          15            1       20100   \n",
       "\n",
       "   BLK_2020  BLKSF_2020  AREALAND_2020  AREAWATER_2020 BLOCK_PART_FLAG_R  \\\n",
       "0      3062         NaN         211979            3464                 p   \n",
       "1      3062         NaN         211979            3464                 p   \n",
       "\n",
       "   AREALAND_INT  AREAWATER_INT  \n",
       "0          9903              0  \n",
       "1        174797              0  "
      ]
     },
     "execution_count": 140,
     "metadata": {},
     "output_type": "execute_result"
    }
   ],
   "source": [
    "mapper_df = concat_states_mapper(states.keys())\n",
    "mapper_df.head(2)"
   ]
  },
  {
   "cell_type": "code",
   "execution_count": 141,
   "id": "d5a794c2-0264-4136-8c6d-d0e44a7eac86",
   "metadata": {},
   "outputs": [
    {
     "data": {
      "text/plain": [
       "Index(['STATE_2010', 'COUNTY_2010', 'TRACT_2010', 'BLK_2010', 'BLKSF_2010',\n",
       "       'AREALAND_2010', 'AREAWATER_2010', 'BLOCK_PART_FLAG_O', 'STATE_2020',\n",
       "       'COUNTY_2020', 'TRACT_2020', 'BLK_2020', 'BLKSF_2020', 'AREALAND_2020',\n",
       "       'AREAWATER_2020', 'BLOCK_PART_FLAG_R', 'AREALAND_INT', 'AREAWATER_INT'],\n",
       "      dtype='object')"
      ]
     },
     "execution_count": 141,
     "metadata": {},
     "output_type": "execute_result"
    }
   ],
   "source": [
    "mapper_df.columns"
   ]
  },
  {
   "cell_type": "code",
   "execution_count": 142,
   "id": "94009b6b-f2f1-4b75-b155-a5114426a9c6",
   "metadata": {},
   "outputs": [],
   "source": [
    "def create_id(row):\n",
    "    row.iloc[0] = str((str(row.iloc[0]).rjust(2,'0')))\n",
    "    row.iloc[1] = str(str(row.iloc[1]).rjust(3,'0'))\n",
    "    row.iloc[2] = str(str(row.iloc[2]).rjust(6,'0'))\n",
    "    row.iloc[3] = str(str(row.iloc[3]).rjust(4,'0'))\n",
    "\n",
    "    # print(row[0],row[1],row[2],row[3])\n",
    "    return int(row[0]+row[1]+row[2]+row[3])\n"
   ]
  },
  {
   "cell_type": "code",
   "execution_count": 143,
   "id": "3798e41c-afac-4da8-85d0-b91e133fe63a",
   "metadata": {},
   "outputs": [
    {
     "data": {
      "text/html": [
       "<div>\n",
       "<style scoped>\n",
       "    .dataframe tbody tr th:only-of-type {\n",
       "        vertical-align: middle;\n",
       "    }\n",
       "\n",
       "    .dataframe tbody tr th {\n",
       "        vertical-align: top;\n",
       "    }\n",
       "\n",
       "    .dataframe thead th {\n",
       "        text-align: right;\n",
       "    }\n",
       "</style>\n",
       "<table border=\"1\" class=\"dataframe\">\n",
       "  <thead>\n",
       "    <tr style=\"text-align: right;\">\n",
       "      <th></th>\n",
       "      <th>index</th>\n",
       "      <th>ID10</th>\n",
       "      <th>ID20</th>\n",
       "      <th>STATE_2020</th>\n",
       "    </tr>\n",
       "  </thead>\n",
       "  <tbody>\n",
       "    <tr>\n",
       "      <th>0</th>\n",
       "      <td>0</td>\n",
       "      <td>150010201001000</td>\n",
       "      <td>150010201003062</td>\n",
       "      <td>15</td>\n",
       "    </tr>\n",
       "    <tr>\n",
       "      <th>1</th>\n",
       "      <td>1</td>\n",
       "      <td>150010201001001</td>\n",
       "      <td>150010201003062</td>\n",
       "      <td>15</td>\n",
       "    </tr>\n",
       "    <tr>\n",
       "      <th>2</th>\n",
       "      <td>2</td>\n",
       "      <td>150010201001002</td>\n",
       "      <td>150010201003062</td>\n",
       "      <td>15</td>\n",
       "    </tr>\n",
       "    <tr>\n",
       "      <th>3</th>\n",
       "      <td>3</td>\n",
       "      <td>150010201001003</td>\n",
       "      <td>150010201003062</td>\n",
       "      <td>15</td>\n",
       "    </tr>\n",
       "    <tr>\n",
       "      <th>4</th>\n",
       "      <td>4</td>\n",
       "      <td>150010201001004</td>\n",
       "      <td>150010201003052</td>\n",
       "      <td>15</td>\n",
       "    </tr>\n",
       "  </tbody>\n",
       "</table>\n",
       "</div>"
      ],
      "text/plain": [
       "   index             ID10             ID20  STATE_2020\n",
       "0      0  150010201001000  150010201003062          15\n",
       "1      1  150010201001001  150010201003062          15\n",
       "2      2  150010201001002  150010201003062          15\n",
       "3      3  150010201001003  150010201003062          15\n",
       "4      4  150010201001004  150010201003052          15"
      ]
     },
     "execution_count": 143,
     "metadata": {},
     "output_type": "execute_result"
    }
   ],
   "source": [
    "mapper_df['ID10']= mapper_df[['STATE_2010','COUNTY_2010','TRACT_2010','BLK_2010']].apply(create_id,axis=1)\n",
    "mapper_df['ID20']= mapper_df[['STATE_2020','COUNTY_2020','TRACT_2020','BLK_2020']].apply(create_id,axis=1)\n",
    "mapper_df = mapper_df[['ID10','ID20','STATE_2020']].reset_index()\n",
    "mapper_df.head()"
   ]
  },
  {
   "cell_type": "markdown",
   "id": "8ddafa01-908d-4404-839b-217683d3b0de",
   "metadata": {
    "jp-MarkdownHeadingCollapsed": true,
    "tags": []
   },
   "source": [
    "#### Out of state blocks"
   ]
  },
  {
   "cell_type": "code",
   "execution_count": 77,
   "id": "e31b6cb9-dd01-44cb-8970-0d57bfe24a28",
   "metadata": {},
   "outputs": [
    {
     "data": {
      "text/html": [
       "<div>\n",
       "<style scoped>\n",
       "    .dataframe tbody tr th:only-of-type {\n",
       "        vertical-align: middle;\n",
       "    }\n",
       "\n",
       "    .dataframe tbody tr th {\n",
       "        vertical-align: top;\n",
       "    }\n",
       "\n",
       "    .dataframe thead th {\n",
       "        text-align: right;\n",
       "    }\n",
       "</style>\n",
       "<table border=\"1\" class=\"dataframe\">\n",
       "  <thead>\n",
       "    <tr style=\"text-align: right;\">\n",
       "      <th></th>\n",
       "      <th>STATE_2010</th>\n",
       "      <th>COUNTY_2010</th>\n",
       "      <th>TRACT_2010</th>\n",
       "      <th>BLK_2010</th>\n",
       "      <th>BLKSF_2010</th>\n",
       "      <th>AREALAND_2010</th>\n",
       "      <th>AREAWATER_2010</th>\n",
       "      <th>BLOCK_PART_FLAG_O</th>\n",
       "      <th>STATE_2020</th>\n",
       "      <th>COUNTY_2020</th>\n",
       "      <th>TRACT_2020</th>\n",
       "      <th>BLK_2020</th>\n",
       "      <th>BLKSF_2020</th>\n",
       "      <th>AREALAND_2020</th>\n",
       "      <th>AREAWATER_2020</th>\n",
       "      <th>BLOCK_PART_FLAG_R</th>\n",
       "      <th>AREALAND_INT</th>\n",
       "      <th>AREAWATER_INT</th>\n",
       "    </tr>\n",
       "  </thead>\n",
       "  <tbody>\n",
       "    <tr>\n",
       "      <th>214265</th>\n",
       "      <td>28</td>\n",
       "      <td>143</td>\n",
       "      <td>950100</td>\n",
       "      <td>3127</td>\n",
       "      <td>NaN</td>\n",
       "      <td>23110700</td>\n",
       "      <td>100151</td>\n",
       "      <td>p</td>\n",
       "      <td>5</td>\n",
       "      <td>77</td>\n",
       "      <td>470100</td>\n",
       "      <td>1144</td>\n",
       "      <td>NaN</td>\n",
       "      <td>5488666</td>\n",
       "      <td>18355</td>\n",
       "      <td>p</td>\n",
       "      <td>2746974</td>\n",
       "      <td>15338</td>\n",
       "    </tr>\n",
       "    <tr>\n",
       "      <th>214326</th>\n",
       "      <td>29</td>\n",
       "      <td>181</td>\n",
       "      <td>870200</td>\n",
       "      <td>2093</td>\n",
       "      <td>NaN</td>\n",
       "      <td>9816817</td>\n",
       "      <td>0</td>\n",
       "      <td>p</td>\n",
       "      <td>5</td>\n",
       "      <td>121</td>\n",
       "      <td>960202</td>\n",
       "      <td>2007</td>\n",
       "      <td>NaN</td>\n",
       "      <td>1925458</td>\n",
       "      <td>0</td>\n",
       "      <td>p</td>\n",
       "      <td>128</td>\n",
       "      <td>0</td>\n",
       "    </tr>\n",
       "    <tr>\n",
       "      <th>214385</th>\n",
       "      <td>47</td>\n",
       "      <td>97</td>\n",
       "      <td>50100</td>\n",
       "      <td>1029</td>\n",
       "      <td>NaN</td>\n",
       "      <td>0</td>\n",
       "      <td>136119</td>\n",
       "      <td>p</td>\n",
       "      <td>5</td>\n",
       "      <td>93</td>\n",
       "      <td>10700</td>\n",
       "      <td>3080</td>\n",
       "      <td>NaN</td>\n",
       "      <td>0</td>\n",
       "      <td>81984</td>\n",
       "      <td>p</td>\n",
       "      <td>0</td>\n",
       "      <td>28814</td>\n",
       "    </tr>\n",
       "    <tr>\n",
       "      <th>214219</th>\n",
       "      <td>22</td>\n",
       "      <td>27</td>\n",
       "      <td>950200</td>\n",
       "      <td>2009</td>\n",
       "      <td>NaN</td>\n",
       "      <td>801699</td>\n",
       "      <td>0</td>\n",
       "      <td>p</td>\n",
       "      <td>5</td>\n",
       "      <td>27</td>\n",
       "      <td>950100</td>\n",
       "      <td>3076</td>\n",
       "      <td>NaN</td>\n",
       "      <td>2514951</td>\n",
       "      <td>0</td>\n",
       "      <td>p</td>\n",
       "      <td>179</td>\n",
       "      <td>0</td>\n",
       "    </tr>\n",
       "    <tr>\n",
       "      <th>214274</th>\n",
       "      <td>28</td>\n",
       "      <td>143</td>\n",
       "      <td>950100</td>\n",
       "      <td>3370</td>\n",
       "      <td>NaN</td>\n",
       "      <td>0</td>\n",
       "      <td>5331500</td>\n",
       "      <td>p</td>\n",
       "      <td>5</td>\n",
       "      <td>77</td>\n",
       "      <td>470100</td>\n",
       "      <td>1148</td>\n",
       "      <td>NaN</td>\n",
       "      <td>0</td>\n",
       "      <td>1958738</td>\n",
       "      <td>p</td>\n",
       "      <td>0</td>\n",
       "      <td>624419</td>\n",
       "    </tr>\n",
       "  </tbody>\n",
       "</table>\n",
       "</div>"
      ],
      "text/plain": [
       "        STATE_2010  COUNTY_2010  TRACT_2010  BLK_2010  BLKSF_2010  \\\n",
       "214265  28          143          950100      3127     NaN           \n",
       "214326  29          181          870200      2093     NaN           \n",
       "214385  47          97           50100       1029     NaN           \n",
       "214219  22          27           950200      2009     NaN           \n",
       "214274  28          143          950100      3370     NaN           \n",
       "\n",
       "        AREALAND_2010  AREAWATER_2010 BLOCK_PART_FLAG_O  STATE_2020  \\\n",
       "214265  23110700       100151          p                 5            \n",
       "214326  9816817        0               p                 5            \n",
       "214385  0              136119          p                 5            \n",
       "214219  801699         0               p                 5            \n",
       "214274  0              5331500         p                 5            \n",
       "\n",
       "        COUNTY_2020  TRACT_2020  BLK_2020  BLKSF_2020  AREALAND_2020  \\\n",
       "214265  77           470100      1144     NaN          5488666         \n",
       "214326  121          960202      2007     NaN          1925458         \n",
       "214385  93           10700       3080     NaN          0               \n",
       "214219  27           950100      3076     NaN          2514951         \n",
       "214274  77           470100      1148     NaN          0               \n",
       "\n",
       "        AREAWATER_2020 BLOCK_PART_FLAG_R  AREALAND_INT  AREAWATER_INT  \n",
       "214265  18355           p                 2746974       15338          \n",
       "214326  0               p                 128           0              \n",
       "214385  81984           p                 0             28814          \n",
       "214219  0               p                 179           0              \n",
       "214274  1958738         p                 0             624419         "
      ]
     },
     "execution_count": 77,
     "metadata": {},
     "output_type": "execute_result"
    }
   ],
   "source": [
    "mapper[mapper.STATE_2010!=5].sample(5)"
   ]
  },
  {
   "cell_type": "code",
   "execution_count": 72,
   "id": "5679a628-28d2-4a8c-a760-6777d2d103bc",
   "metadata": {},
   "outputs": [
    {
     "data": {
      "text/plain": [
       "47    85\n",
       "28    63\n",
       "29    60\n",
       "40    27\n",
       "48    8 \n",
       "22    6 \n",
       "Name: STATE_2010, dtype: int64"
      ]
     },
     "execution_count": 72,
     "metadata": {},
     "output_type": "execute_result"
    }
   ],
   "source": [
    "mapper[mapper.STATE_2010!=5].STATE_2010.value_counts()"
   ]
  },
  {
   "cell_type": "markdown",
   "id": "02e10ddb-4a2b-4345-b927-922f534796f8",
   "metadata": {
    "tags": []
   },
   "source": [
    "#### Create Mapped IDs"
   ]
  },
  {
   "cell_type": "code",
   "execution_count": 144,
   "id": "31f7339a-a185-41b5-b142-d83402cb13a6",
   "metadata": {},
   "outputs": [],
   "source": [
    "def map_to_ID10(x):\n",
    "    filtered_df = mapper_df[mapper_df.ID20 ==x]\n",
    "    ids = filtered_df.ID10.tolist()\n",
    "    id_dict = {id10:len(mapper_df[mapper_df.ID10 == id10]) for id10 in ids}\n",
    "    return id_dict"
   ]
  },
  {
   "cell_type": "code",
   "execution_count": 145,
   "id": "aeaa11b6-9cfd-4fa7-b6e7-558c2d7c3db5",
   "metadata": {},
   "outputs": [
    {
     "data": {
      "text/html": [
       "<div>\n",
       "<style scoped>\n",
       "    .dataframe tbody tr th:only-of-type {\n",
       "        vertical-align: middle;\n",
       "    }\n",
       "\n",
       "    .dataframe tbody tr th {\n",
       "        vertical-align: top;\n",
       "    }\n",
       "\n",
       "    .dataframe thead th {\n",
       "        text-align: right;\n",
       "    }\n",
       "</style>\n",
       "<table border=\"1\" class=\"dataframe\">\n",
       "  <thead>\n",
       "    <tr style=\"text-align: right;\">\n",
       "      <th></th>\n",
       "      <th>index</th>\n",
       "      <th>ID10</th>\n",
       "      <th>ID20</th>\n",
       "      <th>STATE_2020</th>\n",
       "      <th>ID10_mapped</th>\n",
       "    </tr>\n",
       "  </thead>\n",
       "  <tbody>\n",
       "    <tr>\n",
       "      <th>0</th>\n",
       "      <td>0</td>\n",
       "      <td>150010201001000</td>\n",
       "      <td>150010201003062</td>\n",
       "      <td>15</td>\n",
       "      <td>{150010201001000: 1, 150010201001001: 1, 15001...</td>\n",
       "    </tr>\n",
       "    <tr>\n",
       "      <th>1</th>\n",
       "      <td>1</td>\n",
       "      <td>150010201001001</td>\n",
       "      <td>150010201003062</td>\n",
       "      <td>15</td>\n",
       "      <td>{150010201001000: 1, 150010201001001: 1, 15001...</td>\n",
       "    </tr>\n",
       "    <tr>\n",
       "      <th>2</th>\n",
       "      <td>2</td>\n",
       "      <td>150010201001002</td>\n",
       "      <td>150010201003062</td>\n",
       "      <td>15</td>\n",
       "      <td>{150010201001000: 1, 150010201001001: 1, 15001...</td>\n",
       "    </tr>\n",
       "    <tr>\n",
       "      <th>3</th>\n",
       "      <td>3</td>\n",
       "      <td>150010201001003</td>\n",
       "      <td>150010201003062</td>\n",
       "      <td>15</td>\n",
       "      <td>{150010201001000: 1, 150010201001001: 1, 15001...</td>\n",
       "    </tr>\n",
       "    <tr>\n",
       "      <th>4</th>\n",
       "      <td>4</td>\n",
       "      <td>150010201001004</td>\n",
       "      <td>150010201003052</td>\n",
       "      <td>15</td>\n",
       "      <td>{150010201001004: 1, 150010201001005: 1}</td>\n",
       "    </tr>\n",
       "  </tbody>\n",
       "</table>\n",
       "</div>"
      ],
      "text/plain": [
       "   index             ID10             ID20  STATE_2020  \\\n",
       "0      0  150010201001000  150010201003062          15   \n",
       "1      1  150010201001001  150010201003062          15   \n",
       "2      2  150010201001002  150010201003062          15   \n",
       "3      3  150010201001003  150010201003062          15   \n",
       "4      4  150010201001004  150010201003052          15   \n",
       "\n",
       "                                         ID10_mapped  \n",
       "0  {150010201001000: 1, 150010201001001: 1, 15001...  \n",
       "1  {150010201001000: 1, 150010201001001: 1, 15001...  \n",
       "2  {150010201001000: 1, 150010201001001: 1, 15001...  \n",
       "3  {150010201001000: 1, 150010201001001: 1, 15001...  \n",
       "4           {150010201001004: 1, 150010201001005: 1}  "
      ]
     },
     "execution_count": 145,
     "metadata": {},
     "output_type": "execute_result"
    }
   ],
   "source": [
    "mapper_df['ID10_mapped'] = mapper_df.ID20.apply(map_to_ID10)\n",
    "mapper_df.head()"
   ]
  },
  {
   "cell_type": "code",
   "execution_count": 209,
   "id": "8f0638dd-66c7-434a-8ce5-b572741af0fa",
   "metadata": {},
   "outputs": [
    {
     "data": {
      "text/html": [
       "<div>\n",
       "<style scoped>\n",
       "    .dataframe tbody tr th:only-of-type {\n",
       "        vertical-align: middle;\n",
       "    }\n",
       "\n",
       "    .dataframe tbody tr th {\n",
       "        vertical-align: top;\n",
       "    }\n",
       "\n",
       "    .dataframe thead th {\n",
       "        text-align: right;\n",
       "    }\n",
       "</style>\n",
       "<table border=\"1\" class=\"dataframe\">\n",
       "  <thead>\n",
       "    <tr style=\"text-align: right;\">\n",
       "      <th></th>\n",
       "      <th>ID20</th>\n",
       "      <th>STATE_2020</th>\n",
       "      <th>ID10_mapped</th>\n",
       "    </tr>\n",
       "  </thead>\n",
       "  <tbody>\n",
       "    <tr>\n",
       "      <th>27450</th>\n",
       "      <td>100010401001000</td>\n",
       "      <td>10</td>\n",
       "      <td>{100010401002000: 1, 100010401002001: 1}</td>\n",
       "    </tr>\n",
       "    <tr>\n",
       "      <th>27452</th>\n",
       "      <td>100010401001001</td>\n",
       "      <td>10</td>\n",
       "      <td>{100010401002002: 1}</td>\n",
       "    </tr>\n",
       "    <tr>\n",
       "      <th>27453</th>\n",
       "      <td>100010401001002</td>\n",
       "      <td>10</td>\n",
       "      <td>{100010401002003: 1, 100010401002004: 1}</td>\n",
       "    </tr>\n",
       "    <tr>\n",
       "      <th>27455</th>\n",
       "      <td>100010401001003</td>\n",
       "      <td>10</td>\n",
       "      <td>{100010401002005: 1}</td>\n",
       "    </tr>\n",
       "    <tr>\n",
       "      <th>27456</th>\n",
       "      <td>100010401001004</td>\n",
       "      <td>10</td>\n",
       "      <td>{100010401002006: 2}</td>\n",
       "    </tr>\n",
       "  </tbody>\n",
       "</table>\n",
       "</div>"
      ],
      "text/plain": [
       "                  ID20  STATE_2020                               ID10_mapped\n",
       "27450  100010401001000  10          {100010401002000: 1, 100010401002001: 1}\n",
       "27452  100010401001001  10          {100010401002002: 1}                    \n",
       "27453  100010401001002  10          {100010401002003: 1, 100010401002004: 1}\n",
       "27455  100010401001003  10          {100010401002005: 1}                    \n",
       "27456  100010401001004  10          {100010401002006: 2}                    "
      ]
     },
     "execution_count": 209,
     "metadata": {},
     "output_type": "execute_result"
    }
   ],
   "source": [
    "mapper_df =mapper_df.drop_duplicates('ID20')[['ID20','STATE_2020','ID10_mapped']].sort_values('ID20')\n",
    "mapper_df.head()"
   ]
  },
  {
   "cell_type": "code",
   "execution_count": 211,
   "id": "3d8a4a49-c7eb-4220-a5b9-bb87b3c595eb",
   "metadata": {},
   "outputs": [],
   "source": [
    "# #Load mapper\n",
    "# mapper_df.to_csv('census_full/mapped_blocks.csv')\n",
    "mapper_df = pd.read_csv('census_full/mapped_blocks.csv').drop(columns='Unnamed: 0',axis=1)\n",
    "mapper_df.head()"
   ]
  },
  {
   "cell_type": "markdown",
   "id": "21f1ed8e-6491-47b5-8361-dbab86481555",
   "metadata": {},
   "source": [
    "#### Calculate new P1"
   ]
  },
  {
   "cell_type": "code",
   "execution_count": 212,
   "id": "44f79743-f309-4908-847a-29eff94c3539",
   "metadata": {},
   "outputs": [],
   "source": [
    "def calculate_P10_equivalent(id20):\n",
    "    # print(id20)\n",
    "    P1 = 0\n",
    "    d1 = ast.literal_eval(mapper_df[mapper_df.ID20==id20].ID10_mapped.iloc[0])\n",
    "    for index,parts in list(d1.items()):\n",
    "        P1+= data10[data10.ID10==index]['P10'].iloc[0]/parts\n",
    "        #print(P1)\n",
    "    return P1"
   ]
  },
  {
   "cell_type": "code",
   "execution_count": null,
   "id": "4fa32f57-db10-4115-a12f-ec4946b47b0a",
   "metadata": {},
   "outputs": [],
   "source": [
    "# pd.set_option('display.max_colwidth', -1)"
   ]
  },
  {
   "cell_type": "code",
   "execution_count": 215,
   "id": "b1d43d48-ba7a-4873-9c4e-b48aa0ed5565",
   "metadata": {
    "tags": []
   },
   "outputs": [
    {
     "data": {
      "text/html": [
       "<div>\n",
       "<style scoped>\n",
       "    .dataframe tbody tr th:only-of-type {\n",
       "        vertical-align: middle;\n",
       "    }\n",
       "\n",
       "    .dataframe tbody tr th {\n",
       "        vertical-align: top;\n",
       "    }\n",
       "\n",
       "    .dataframe thead th {\n",
       "        text-align: right;\n",
       "    }\n",
       "</style>\n",
       "<table border=\"1\" class=\"dataframe\">\n",
       "  <thead>\n",
       "    <tr style=\"text-align: right;\">\n",
       "      <th></th>\n",
       "      <th>GISJOIN</th>\n",
       "      <th>ID20</th>\n",
       "      <th>STATE</th>\n",
       "      <th>COUNTY</th>\n",
       "      <th>P20</th>\n",
       "      <th>P10_new</th>\n",
       "    </tr>\n",
       "  </thead>\n",
       "  <tbody>\n",
       "    <tr>\n",
       "      <th>1216403</th>\n",
       "      <td>10000100401001000</td>\n",
       "      <td>100010401001000</td>\n",
       "      <td>10</td>\n",
       "      <td>Kent County</td>\n",
       "      <td>108</td>\n",
       "      <td>103</td>\n",
       "    </tr>\n",
       "    <tr>\n",
       "      <th>1216404</th>\n",
       "      <td>10000100401001001</td>\n",
       "      <td>100010401001001</td>\n",
       "      <td>10</td>\n",
       "      <td>Kent County</td>\n",
       "      <td>44</td>\n",
       "      <td>31</td>\n",
       "    </tr>\n",
       "    <tr>\n",
       "      <th>1216405</th>\n",
       "      <td>10000100401001002</td>\n",
       "      <td>100010401001002</td>\n",
       "      <td>10</td>\n",
       "      <td>Kent County</td>\n",
       "      <td>74</td>\n",
       "      <td>57</td>\n",
       "    </tr>\n",
       "    <tr>\n",
       "      <th>1216406</th>\n",
       "      <td>10000100401001003</td>\n",
       "      <td>100010401001003</td>\n",
       "      <td>10</td>\n",
       "      <td>Kent County</td>\n",
       "      <td>60</td>\n",
       "      <td>94</td>\n",
       "    </tr>\n",
       "    <tr>\n",
       "      <th>1216407</th>\n",
       "      <td>10000100401001004</td>\n",
       "      <td>100010401001004</td>\n",
       "      <td>10</td>\n",
       "      <td>Kent County</td>\n",
       "      <td>12</td>\n",
       "      <td>46</td>\n",
       "    </tr>\n",
       "  </tbody>\n",
       "</table>\n",
       "</div>"
      ],
      "text/plain": [
       "                   GISJOIN             ID20  STATE       COUNTY  P20  P10_new\n",
       "1216403  10000100401001000  100010401001000  10     Kent County  108 103     \n",
       "1216404  10000100401001001  100010401001001  10     Kent County  44  31      \n",
       "1216405  10000100401001002  100010401001002  10     Kent County  74  57      \n",
       "1216406  10000100401001003  100010401001003  10     Kent County  60  94      \n",
       "1216407  10000100401001004  100010401001004  10     Kent County  12  46      "
      ]
     },
     "execution_count": 215,
     "metadata": {},
     "output_type": "execute_result"
    }
   ],
   "source": [
    "data20['P10_new'] = data20[data20['ID20'].notnull()].to_pandas().ID20.apply(calculate_P10_equivalent)\n",
    "data20.head()"
   ]
  },
  {
   "cell_type": "code",
   "execution_count": 223,
   "id": "dbfc11a9-6956-4dea-9a4a-bed7cf56b552",
   "metadata": {},
   "outputs": [],
   "source": [
    "data20.to_csv('HI_DE_DC_mapped_data.csv')"
   ]
  },
  {
   "cell_type": "markdown",
   "id": "fbb35ce5-c08e-416e-b8c7-0ef90618b2a8",
   "metadata": {
    "jp-MarkdownHeadingCollapsed": true,
    "tags": []
   },
   "source": [
    "### BYPASS OTHER STATES"
   ]
  },
  {
   "cell_type": "code",
   "execution_count": 186,
   "id": "7881325d-2f88-44aa-b925-ae7ad9c39689",
   "metadata": {},
   "outputs": [],
   "source": [
    "def map_to_ID10_bypass(x):\n",
    "    filtered_df = mapper_df[(mapper_df.ID20 ==x) & (mapper_df.ID10 >= 5*10**13) & (mapper_df.ID10 <=6*10**13)] # 2010 equivalent blocks of other states bypassed\n",
    "    ids = filtered_df.ID10.tolist()\n",
    "    id_dict = {id10:len(mapper_df[mapper_df.ID10 == id10]) for id10 in ids}\n",
    "    return id_dict"
   ]
  },
  {
   "cell_type": "code",
   "execution_count": 187,
   "id": "f2da1fac-fc9c-4faf-8a3f-bc46adb3231d",
   "metadata": {
    "collapsed": true,
    "jupyter": {
     "outputs_hidden": true
    },
    "tags": []
   },
   "outputs": [
    {
     "ename": "KeyboardInterrupt",
     "evalue": "",
     "output_type": "error",
     "traceback": [
      "\u001b[0;31m---------------------------------------------------------------------------\u001b[0m",
      "\u001b[0;31mKeyboardInterrupt\u001b[0m                         Traceback (most recent call last)",
      "Input \u001b[0;32mIn [187]\u001b[0m, in \u001b[0;36m<cell line: 1>\u001b[0;34m()\u001b[0m\n\u001b[0;32m----> 1\u001b[0m mapper_df[\u001b[38;5;124m'\u001b[39m\u001b[38;5;124mID10_mapped_bypass\u001b[39m\u001b[38;5;124m'\u001b[39m] \u001b[38;5;241m=\u001b[39m \u001b[43mmapper_df\u001b[49m\u001b[38;5;241;43m.\u001b[39;49m\u001b[43mID20\u001b[49m\u001b[38;5;241;43m.\u001b[39;49m\u001b[43mapply\u001b[49m\u001b[43m(\u001b[49m\u001b[43mmap_to_ID10_bypass\u001b[49m\u001b[43m)\u001b[49m\n\u001b[1;32m      2\u001b[0m mapper_df\u001b[38;5;241m.\u001b[39mhead()\n",
      "File \u001b[0;32m~/anaconda3/envs/rapids-22.06/lib/python3.9/site-packages/pandas/core/series.py:4433\u001b[0m, in \u001b[0;36mSeries.apply\u001b[0;34m(self, func, convert_dtype, args, **kwargs)\u001b[0m\n\u001b[1;32m   4323\u001b[0m \u001b[38;5;28;01mdef\u001b[39;00m \u001b[38;5;21mapply\u001b[39m(\n\u001b[1;32m   4324\u001b[0m     \u001b[38;5;28mself\u001b[39m,\n\u001b[1;32m   4325\u001b[0m     func: AggFuncType,\n\u001b[0;32m   (...)\u001b[0m\n\u001b[1;32m   4328\u001b[0m     \u001b[38;5;241m*\u001b[39m\u001b[38;5;241m*\u001b[39mkwargs,\n\u001b[1;32m   4329\u001b[0m ) \u001b[38;5;241m-\u001b[39m\u001b[38;5;241m>\u001b[39m DataFrame \u001b[38;5;241m|\u001b[39m Series:\n\u001b[1;32m   4330\u001b[0m     \u001b[38;5;124;03m\"\"\"\u001b[39;00m\n\u001b[1;32m   4331\u001b[0m \u001b[38;5;124;03m    Invoke function on values of Series.\u001b[39;00m\n\u001b[1;32m   4332\u001b[0m \n\u001b[0;32m   (...)\u001b[0m\n\u001b[1;32m   4431\u001b[0m \u001b[38;5;124;03m    dtype: float64\u001b[39;00m\n\u001b[1;32m   4432\u001b[0m \u001b[38;5;124;03m    \"\"\"\u001b[39;00m\n\u001b[0;32m-> 4433\u001b[0m     \u001b[38;5;28;01mreturn\u001b[39;00m \u001b[43mSeriesApply\u001b[49m\u001b[43m(\u001b[49m\u001b[38;5;28;43mself\u001b[39;49m\u001b[43m,\u001b[49m\u001b[43m \u001b[49m\u001b[43mfunc\u001b[49m\u001b[43m,\u001b[49m\u001b[43m \u001b[49m\u001b[43mconvert_dtype\u001b[49m\u001b[43m,\u001b[49m\u001b[43m \u001b[49m\u001b[43margs\u001b[49m\u001b[43m,\u001b[49m\u001b[43m \u001b[49m\u001b[43mkwargs\u001b[49m\u001b[43m)\u001b[49m\u001b[38;5;241;43m.\u001b[39;49m\u001b[43mapply\u001b[49m\u001b[43m(\u001b[49m\u001b[43m)\u001b[49m\n",
      "File \u001b[0;32m~/anaconda3/envs/rapids-22.06/lib/python3.9/site-packages/pandas/core/apply.py:1082\u001b[0m, in \u001b[0;36mSeriesApply.apply\u001b[0;34m(self)\u001b[0m\n\u001b[1;32m   1078\u001b[0m \u001b[38;5;28;01mif\u001b[39;00m \u001b[38;5;28misinstance\u001b[39m(\u001b[38;5;28mself\u001b[39m\u001b[38;5;241m.\u001b[39mf, \u001b[38;5;28mstr\u001b[39m):\n\u001b[1;32m   1079\u001b[0m     \u001b[38;5;66;03m# if we are a string, try to dispatch\u001b[39;00m\n\u001b[1;32m   1080\u001b[0m     \u001b[38;5;28;01mreturn\u001b[39;00m \u001b[38;5;28mself\u001b[39m\u001b[38;5;241m.\u001b[39mapply_str()\n\u001b[0;32m-> 1082\u001b[0m \u001b[38;5;28;01mreturn\u001b[39;00m \u001b[38;5;28;43mself\u001b[39;49m\u001b[38;5;241;43m.\u001b[39;49m\u001b[43mapply_standard\u001b[49m\u001b[43m(\u001b[49m\u001b[43m)\u001b[49m\n",
      "File \u001b[0;32m~/anaconda3/envs/rapids-22.06/lib/python3.9/site-packages/pandas/core/apply.py:1137\u001b[0m, in \u001b[0;36mSeriesApply.apply_standard\u001b[0;34m(self)\u001b[0m\n\u001b[1;32m   1131\u001b[0m         values \u001b[38;5;241m=\u001b[39m obj\u001b[38;5;241m.\u001b[39mastype(\u001b[38;5;28mobject\u001b[39m)\u001b[38;5;241m.\u001b[39m_values\n\u001b[1;32m   1132\u001b[0m         \u001b[38;5;66;03m# error: Argument 2 to \"map_infer\" has incompatible type\u001b[39;00m\n\u001b[1;32m   1133\u001b[0m         \u001b[38;5;66;03m# \"Union[Callable[..., Any], str, List[Union[Callable[..., Any], str]],\u001b[39;00m\n\u001b[1;32m   1134\u001b[0m         \u001b[38;5;66;03m# Dict[Hashable, Union[Union[Callable[..., Any], str],\u001b[39;00m\n\u001b[1;32m   1135\u001b[0m         \u001b[38;5;66;03m# List[Union[Callable[..., Any], str]]]]]\"; expected\u001b[39;00m\n\u001b[1;32m   1136\u001b[0m         \u001b[38;5;66;03m# \"Callable[[Any], Any]\"\u001b[39;00m\n\u001b[0;32m-> 1137\u001b[0m         mapped \u001b[38;5;241m=\u001b[39m \u001b[43mlib\u001b[49m\u001b[38;5;241;43m.\u001b[39;49m\u001b[43mmap_infer\u001b[49m\u001b[43m(\u001b[49m\n\u001b[1;32m   1138\u001b[0m \u001b[43m            \u001b[49m\u001b[43mvalues\u001b[49m\u001b[43m,\u001b[49m\n\u001b[1;32m   1139\u001b[0m \u001b[43m            \u001b[49m\u001b[43mf\u001b[49m\u001b[43m,\u001b[49m\u001b[43m  \u001b[49m\u001b[38;5;66;43;03m# type: ignore[arg-type]\u001b[39;49;00m\n\u001b[1;32m   1140\u001b[0m \u001b[43m            \u001b[49m\u001b[43mconvert\u001b[49m\u001b[38;5;241;43m=\u001b[39;49m\u001b[38;5;28;43mself\u001b[39;49m\u001b[38;5;241;43m.\u001b[39;49m\u001b[43mconvert_dtype\u001b[49m\u001b[43m,\u001b[49m\n\u001b[1;32m   1141\u001b[0m \u001b[43m        \u001b[49m\u001b[43m)\u001b[49m\n\u001b[1;32m   1143\u001b[0m \u001b[38;5;28;01mif\u001b[39;00m \u001b[38;5;28mlen\u001b[39m(mapped) \u001b[38;5;129;01mand\u001b[39;00m \u001b[38;5;28misinstance\u001b[39m(mapped[\u001b[38;5;241m0\u001b[39m], ABCSeries):\n\u001b[1;32m   1144\u001b[0m     \u001b[38;5;66;03m# GH#43986 Need to do list(mapped) in order to get treated as nested\u001b[39;00m\n\u001b[1;32m   1145\u001b[0m     \u001b[38;5;66;03m#  See also GH#25959 regarding EA support\u001b[39;00m\n\u001b[1;32m   1146\u001b[0m     \u001b[38;5;28;01mreturn\u001b[39;00m obj\u001b[38;5;241m.\u001b[39m_constructor_expanddim(\u001b[38;5;28mlist\u001b[39m(mapped), index\u001b[38;5;241m=\u001b[39mobj\u001b[38;5;241m.\u001b[39mindex)\n",
      "File \u001b[0;32m~/anaconda3/envs/rapids-22.06/lib/python3.9/site-packages/pandas/_libs/lib.pyx:2870\u001b[0m, in \u001b[0;36mpandas._libs.lib.map_infer\u001b[0;34m()\u001b[0m\n",
      "Input \u001b[0;32mIn [186]\u001b[0m, in \u001b[0;36mmap_to_ID10_bypass\u001b[0;34m(x)\u001b[0m\n\u001b[1;32m      1\u001b[0m \u001b[38;5;28;01mdef\u001b[39;00m \u001b[38;5;21mmap_to_ID10_bypass\u001b[39m(x):\n\u001b[0;32m----> 2\u001b[0m     filtered_df \u001b[38;5;241m=\u001b[39m mapper_df[\u001b[43m(\u001b[49m\u001b[43mmapper_df\u001b[49m\u001b[38;5;241;43m.\u001b[39;49m\u001b[43mID20\u001b[49m\u001b[43m \u001b[49m\u001b[38;5;241;43m==\u001b[39;49m\u001b[43mx\u001b[49m\u001b[43m)\u001b[49m\u001b[43m \u001b[49m\u001b[38;5;241;43m&\u001b[39;49m\u001b[43m \u001b[49m\u001b[43m(\u001b[49m\u001b[43mmapper_df\u001b[49m\u001b[38;5;241;43m.\u001b[39;49m\u001b[43mID10\u001b[49m\u001b[43m \u001b[49m\u001b[38;5;241;43m>\u001b[39;49m\u001b[38;5;241;43m=\u001b[39;49m\u001b[43m \u001b[49m\u001b[38;5;241;43m5\u001b[39;49m\u001b[38;5;241;43m*\u001b[39;49m\u001b[38;5;241;43m10\u001b[39;49m\u001b[38;5;241;43m*\u001b[39;49m\u001b[38;5;241;43m*\u001b[39;49m\u001b[38;5;241;43m13\u001b[39;49m\u001b[43m)\u001b[49m\u001b[43m \u001b[49m\u001b[38;5;241;43m&\u001b[39;49m\u001b[43m \u001b[49m\u001b[43m(\u001b[49m\u001b[43mmapper_df\u001b[49m\u001b[38;5;241;43m.\u001b[39;49m\u001b[43mID10\u001b[49m\u001b[43m \u001b[49m\u001b[38;5;241;43m<\u001b[39;49m\u001b[38;5;241;43m=\u001b[39;49m\u001b[38;5;241;43m6\u001b[39;49m\u001b[38;5;241;43m*\u001b[39;49m\u001b[38;5;241;43m10\u001b[39;49m\u001b[38;5;241;43m*\u001b[39;49m\u001b[38;5;241;43m*\u001b[39;49m\u001b[38;5;241;43m13\u001b[39;49m\u001b[43m)\u001b[49m] \u001b[38;5;66;03m# 2010 equivalent blocks of other states bypassed\u001b[39;00m\n\u001b[1;32m      3\u001b[0m     ids \u001b[38;5;241m=\u001b[39m filtered_df\u001b[38;5;241m.\u001b[39mID10\u001b[38;5;241m.\u001b[39mtolist()\n\u001b[1;32m      4\u001b[0m     id_dict \u001b[38;5;241m=\u001b[39m {id10:\u001b[38;5;28mlen\u001b[39m(mapper_df[mapper_df\u001b[38;5;241m.\u001b[39mID10 \u001b[38;5;241m==\u001b[39m id10]) \u001b[38;5;28;01mfor\u001b[39;00m id10 \u001b[38;5;129;01min\u001b[39;00m ids}\n",
      "File \u001b[0;32m~/anaconda3/envs/rapids-22.06/lib/python3.9/site-packages/pandas/core/ops/common.py:70\u001b[0m, in \u001b[0;36m_unpack_zerodim_and_defer.<locals>.new_method\u001b[0;34m(self, other)\u001b[0m\n\u001b[1;32m     66\u001b[0m             \u001b[38;5;28;01mreturn\u001b[39;00m \u001b[38;5;28mNotImplemented\u001b[39m\n\u001b[1;32m     68\u001b[0m other \u001b[38;5;241m=\u001b[39m item_from_zerodim(other)\n\u001b[0;32m---> 70\u001b[0m \u001b[38;5;28;01mreturn\u001b[39;00m \u001b[43mmethod\u001b[49m\u001b[43m(\u001b[49m\u001b[38;5;28;43mself\u001b[39;49m\u001b[43m,\u001b[49m\u001b[43m \u001b[49m\u001b[43mother\u001b[49m\u001b[43m)\u001b[49m\n",
      "File \u001b[0;32m~/anaconda3/envs/rapids-22.06/lib/python3.9/site-packages/pandas/core/arraylike.py:70\u001b[0m, in \u001b[0;36mOpsMixin.__and__\u001b[0;34m(self, other)\u001b[0m\n\u001b[1;32m     68\u001b[0m \u001b[38;5;129m@unpack_zerodim_and_defer\u001b[39m(\u001b[38;5;124m\"\u001b[39m\u001b[38;5;124m__and__\u001b[39m\u001b[38;5;124m\"\u001b[39m)\n\u001b[1;32m     69\u001b[0m \u001b[38;5;28;01mdef\u001b[39;00m \u001b[38;5;21m__and__\u001b[39m(\u001b[38;5;28mself\u001b[39m, other):\n\u001b[0;32m---> 70\u001b[0m     \u001b[38;5;28;01mreturn\u001b[39;00m \u001b[38;5;28;43mself\u001b[39;49m\u001b[38;5;241;43m.\u001b[39;49m\u001b[43m_logical_method\u001b[49m\u001b[43m(\u001b[49m\u001b[43mother\u001b[49m\u001b[43m,\u001b[49m\u001b[43m \u001b[49m\u001b[43moperator\u001b[49m\u001b[38;5;241;43m.\u001b[39;49m\u001b[43mand_\u001b[49m\u001b[43m)\u001b[49m\n",
      "File \u001b[0;32m~/anaconda3/envs/rapids-22.06/lib/python3.9/site-packages/pandas/core/series.py:5635\u001b[0m, in \u001b[0;36mSeries._logical_method\u001b[0;34m(self, other, op)\u001b[0m\n\u001b[1;32m   5632\u001b[0m rvalues \u001b[38;5;241m=\u001b[39m extract_array(other, extract_numpy\u001b[38;5;241m=\u001b[39m\u001b[38;5;28;01mTrue\u001b[39;00m, extract_range\u001b[38;5;241m=\u001b[39m\u001b[38;5;28;01mTrue\u001b[39;00m)\n\u001b[1;32m   5634\u001b[0m res_values \u001b[38;5;241m=\u001b[39m ops\u001b[38;5;241m.\u001b[39mlogical_op(lvalues, rvalues, op)\n\u001b[0;32m-> 5635\u001b[0m \u001b[38;5;28;01mreturn\u001b[39;00m \u001b[38;5;28;43mself\u001b[39;49m\u001b[38;5;241;43m.\u001b[39;49m\u001b[43m_construct_result\u001b[49m\u001b[43m(\u001b[49m\u001b[43mres_values\u001b[49m\u001b[43m,\u001b[49m\u001b[43m \u001b[49m\u001b[43mname\u001b[49m\u001b[38;5;241;43m=\u001b[39;49m\u001b[43mres_name\u001b[49m\u001b[43m)\u001b[49m\n",
      "File \u001b[0;32m~/anaconda3/envs/rapids-22.06/lib/python3.9/site-packages/pandas/core/series.py:3017\u001b[0m, in \u001b[0;36mSeries._construct_result\u001b[0;34m(self, result, name)\u001b[0m\n\u001b[1;32m   3013\u001b[0m     \u001b[38;5;28;01mreturn\u001b[39;00m (res1, res2)\n\u001b[1;32m   3015\u001b[0m \u001b[38;5;66;03m# We do not pass dtype to ensure that the Series constructor\u001b[39;00m\n\u001b[1;32m   3016\u001b[0m \u001b[38;5;66;03m#  does inference in the case where `result` has object-dtype.\u001b[39;00m\n\u001b[0;32m-> 3017\u001b[0m out \u001b[38;5;241m=\u001b[39m \u001b[38;5;28;43mself\u001b[39;49m\u001b[38;5;241;43m.\u001b[39;49m\u001b[43m_constructor\u001b[49m\u001b[43m(\u001b[49m\u001b[43mresult\u001b[49m\u001b[43m,\u001b[49m\u001b[43m \u001b[49m\u001b[43mindex\u001b[49m\u001b[38;5;241;43m=\u001b[39;49m\u001b[38;5;28;43mself\u001b[39;49m\u001b[38;5;241;43m.\u001b[39;49m\u001b[43mindex\u001b[49m\u001b[43m)\u001b[49m\n\u001b[1;32m   3018\u001b[0m out \u001b[38;5;241m=\u001b[39m out\u001b[38;5;241m.\u001b[39m__finalize__(\u001b[38;5;28mself\u001b[39m)\n\u001b[1;32m   3020\u001b[0m \u001b[38;5;66;03m# Set the result's name after __finalize__ is called because __finalize__\u001b[39;00m\n\u001b[1;32m   3021\u001b[0m \u001b[38;5;66;03m#  would set it back to self.name\u001b[39;00m\n",
      "File \u001b[0;32m~/anaconda3/envs/rapids-22.06/lib/python3.9/site-packages/pandas/core/series.py:451\u001b[0m, in \u001b[0;36mSeries.__init__\u001b[0;34m(self, data, index, dtype, name, copy, fastpath)\u001b[0m\n\u001b[1;32m    449\u001b[0m         data \u001b[38;5;241m=\u001b[39m data\u001b[38;5;241m.\u001b[39mcopy()\n\u001b[1;32m    450\u001b[0m \u001b[38;5;28;01melse\u001b[39;00m:\n\u001b[0;32m--> 451\u001b[0m     data \u001b[38;5;241m=\u001b[39m \u001b[43msanitize_array\u001b[49m\u001b[43m(\u001b[49m\u001b[43mdata\u001b[49m\u001b[43m,\u001b[49m\u001b[43m \u001b[49m\u001b[43mindex\u001b[49m\u001b[43m,\u001b[49m\u001b[43m \u001b[49m\u001b[43mdtype\u001b[49m\u001b[43m,\u001b[49m\u001b[43m \u001b[49m\u001b[43mcopy\u001b[49m\u001b[43m)\u001b[49m\n\u001b[1;32m    453\u001b[0m     manager \u001b[38;5;241m=\u001b[39m get_option(\u001b[38;5;124m\"\u001b[39m\u001b[38;5;124mmode.data_manager\u001b[39m\u001b[38;5;124m\"\u001b[39m)\n\u001b[1;32m    454\u001b[0m     \u001b[38;5;28;01mif\u001b[39;00m manager \u001b[38;5;241m==\u001b[39m \u001b[38;5;124m\"\u001b[39m\u001b[38;5;124mblock\u001b[39m\u001b[38;5;124m\"\u001b[39m:\n",
      "File \u001b[0;32m~/anaconda3/envs/rapids-22.06/lib/python3.9/site-packages/pandas/core/construction.py:511\u001b[0m, in \u001b[0;36msanitize_array\u001b[0;34m(data, index, dtype, copy, raise_cast_failure, allow_2d)\u001b[0m\n\u001b[1;32m    508\u001b[0m     dtype \u001b[38;5;241m=\u001b[39m dtype\u001b[38;5;241m.\u001b[39mnumpy_dtype\n\u001b[1;32m    510\u001b[0m \u001b[38;5;66;03m# extract ndarray or ExtensionArray, ensure we have no PandasArray\u001b[39;00m\n\u001b[0;32m--> 511\u001b[0m data \u001b[38;5;241m=\u001b[39m \u001b[43mextract_array\u001b[49m\u001b[43m(\u001b[49m\u001b[43mdata\u001b[49m\u001b[43m,\u001b[49m\u001b[43m \u001b[49m\u001b[43mextract_numpy\u001b[49m\u001b[38;5;241;43m=\u001b[39;49m\u001b[38;5;28;43;01mTrue\u001b[39;49;00m\u001b[43m)\u001b[49m\n\u001b[1;32m    513\u001b[0m \u001b[38;5;28;01mif\u001b[39;00m \u001b[38;5;28misinstance\u001b[39m(data, np\u001b[38;5;241m.\u001b[39mndarray) \u001b[38;5;129;01mand\u001b[39;00m data\u001b[38;5;241m.\u001b[39mndim \u001b[38;5;241m==\u001b[39m \u001b[38;5;241m0\u001b[39m:\n\u001b[1;32m    514\u001b[0m     \u001b[38;5;28;01mif\u001b[39;00m dtype \u001b[38;5;129;01mis\u001b[39;00m \u001b[38;5;28;01mNone\u001b[39;00m:\n",
      "File \u001b[0;32m~/anaconda3/envs/rapids-22.06/lib/python3.9/site-packages/pandas/core/construction.py:424\u001b[0m, in \u001b[0;36mextract_array\u001b[0;34m(obj, extract_numpy, extract_range)\u001b[0m\n\u001b[1;32m    379\u001b[0m \u001b[38;5;28;01mdef\u001b[39;00m \u001b[38;5;21mextract_array\u001b[39m(\n\u001b[1;32m    380\u001b[0m     obj: \u001b[38;5;28mobject\u001b[39m, extract_numpy: \u001b[38;5;28mbool\u001b[39m \u001b[38;5;241m=\u001b[39m \u001b[38;5;28;01mFalse\u001b[39;00m, extract_range: \u001b[38;5;28mbool\u001b[39m \u001b[38;5;241m=\u001b[39m \u001b[38;5;28;01mFalse\u001b[39;00m\n\u001b[1;32m    381\u001b[0m ) \u001b[38;5;241m-\u001b[39m\u001b[38;5;241m>\u001b[39m Any \u001b[38;5;241m|\u001b[39m ArrayLike:\n\u001b[1;32m    382\u001b[0m     \u001b[38;5;124;03m\"\"\"\u001b[39;00m\n\u001b[1;32m    383\u001b[0m \u001b[38;5;124;03m    Extract the ndarray or ExtensionArray from a Series or Index.\u001b[39;00m\n\u001b[1;32m    384\u001b[0m \n\u001b[0;32m   (...)\u001b[0m\n\u001b[1;32m    422\u001b[0m \u001b[38;5;124;03m    array([1, 2, 3])\u001b[39;00m\n\u001b[1;32m    423\u001b[0m \u001b[38;5;124;03m    \"\"\"\u001b[39;00m\n\u001b[0;32m--> 424\u001b[0m     \u001b[38;5;28;01mif\u001b[39;00m \u001b[38;5;28;43misinstance\u001b[39;49m\u001b[43m(\u001b[49m\u001b[43mobj\u001b[49m\u001b[43m,\u001b[49m\u001b[43m \u001b[49m\u001b[43m(\u001b[49m\u001b[43mABCIndex\u001b[49m\u001b[43m,\u001b[49m\u001b[43m \u001b[49m\u001b[43mABCSeries\u001b[49m\u001b[43m)\u001b[49m\u001b[43m)\u001b[49m:\n\u001b[1;32m    425\u001b[0m         \u001b[38;5;28;01mif\u001b[39;00m \u001b[38;5;28misinstance\u001b[39m(obj, ABCRangeIndex):\n\u001b[1;32m    426\u001b[0m             \u001b[38;5;28;01mif\u001b[39;00m extract_range:\n",
      "\u001b[0;31mKeyboardInterrupt\u001b[0m: "
     ]
    }
   ],
   "source": [
    "mapper_df['ID10_mapped_bypass'] = mapper_df.ID20.apply(map_to_ID10_bypass)\n",
    "mapper_df.head()"
   ]
  },
  {
   "cell_type": "code",
   "execution_count": 155,
   "id": "45d4554e-2736-4e33-bc4e-692158c83fc9",
   "metadata": {},
   "outputs": [],
   "source": [
    "# mapper_df.to_csv('mapped_blocks_bypass.csv')"
   ]
  },
  {
   "cell_type": "code",
   "execution_count": 188,
   "id": "6a148efa-9766-4b09-bc26-2aa7490ee8d0",
   "metadata": {},
   "outputs": [
    {
     "data": {
      "text/html": [
       "<div>\n",
       "<style scoped>\n",
       "    .dataframe tbody tr th:only-of-type {\n",
       "        vertical-align: middle;\n",
       "    }\n",
       "\n",
       "    .dataframe tbody tr th {\n",
       "        vertical-align: top;\n",
       "    }\n",
       "\n",
       "    .dataframe thead th {\n",
       "        text-align: right;\n",
       "    }\n",
       "</style>\n",
       "<table border=\"1\" class=\"dataframe\">\n",
       "  <thead>\n",
       "    <tr style=\"text-align: right;\">\n",
       "      <th></th>\n",
       "      <th>index</th>\n",
       "      <th>ID10</th>\n",
       "      <th>ID20</th>\n",
       "      <th>STATE_2020</th>\n",
       "      <th>ID10_mapped</th>\n",
       "      <th>ID10_mapped_bypass</th>\n",
       "    </tr>\n",
       "  </thead>\n",
       "  <tbody>\n",
       "    <tr>\n",
       "      <th>0</th>\n",
       "      <td>0</td>\n",
       "      <td>50014801001000</td>\n",
       "      <td>50014801001000</td>\n",
       "      <td>5</td>\n",
       "      <td>{50014801001000: 1, 50014801001034: 3}</td>\n",
       "      <td>{50014801001000: 1, 50014801001034: 3}</td>\n",
       "    </tr>\n",
       "    <tr>\n",
       "      <th>1</th>\n",
       "      <td>1</td>\n",
       "      <td>50014801001001</td>\n",
       "      <td>50014801001001</td>\n",
       "      <td>5</td>\n",
       "      <td>{50014801001001: 1, 50014801001002: 1, 50014801001003: 1, 50014801001004: 1, 50014801001005: 1, 50014801001006: 1, 50014801001027: 1, 50014801001029: 1, 50014801001030: 1, 50014801001032: 1, 50014801001034: 3}</td>\n",
       "      <td>{50014801001001: 1, 50014801001002: 1, 50014801001003: 1, 50014801001004: 1, 50014801001005: 1, 50014801001006: 1, 50014801001027: 1, 50014801001029: 1, 50014801001030: 1, 50014801001032: 1, 50014801001034: 3}</td>\n",
       "    </tr>\n",
       "  </tbody>\n",
       "</table>\n",
       "</div>"
      ],
      "text/plain": [
       "   index            ID10            ID20  STATE_2020  \\\n",
       "0  0      50014801001000  50014801001000  5            \n",
       "1  1      50014801001001  50014801001001  5            \n",
       "\n",
       "                                                                                                                                                                                                         ID10_mapped  \\\n",
       "0  {50014801001000: 1, 50014801001034: 3}                                                                                                                                                                              \n",
       "1  {50014801001001: 1, 50014801001002: 1, 50014801001003: 1, 50014801001004: 1, 50014801001005: 1, 50014801001006: 1, 50014801001027: 1, 50014801001029: 1, 50014801001030: 1, 50014801001032: 1, 50014801001034: 3}   \n",
       "\n",
       "                                                                                                                                                                                                  ID10_mapped_bypass  \n",
       "0  {50014801001000: 1, 50014801001034: 3}                                                                                                                                                                             \n",
       "1  {50014801001001: 1, 50014801001002: 1, 50014801001003: 1, 50014801001004: 1, 50014801001005: 1, 50014801001006: 1, 50014801001027: 1, 50014801001029: 1, 50014801001030: 1, 50014801001032: 1, 50014801001034: 3}  "
      ]
     },
     "execution_count": 188,
     "metadata": {},
     "output_type": "execute_result"
    }
   ],
   "source": [
    "# mapper_df = pd.read_csv('mapped_blocks_bypass.csv').drop(columns='Unnamed: 0',axis=1)\n",
    "# mapper_df.head(2)"
   ]
  },
  {
   "cell_type": "markdown",
   "id": "00aa2412-5863-43b4-80a9-c96f8030f85c",
   "metadata": {
    "jp-MarkdownHeadingCollapsed": true,
    "tags": []
   },
   "source": [
    "#### Debug mapper"
   ]
  },
  {
   "cell_type": "code",
   "execution_count": 205,
   "id": "4d2b9137-8086-48a6-b141-550b27c215eb",
   "metadata": {},
   "outputs": [
    {
     "data": {
      "text/html": [
       "<div>\n",
       "<style scoped>\n",
       "    .dataframe tbody tr th:only-of-type {\n",
       "        vertical-align: middle;\n",
       "    }\n",
       "\n",
       "    .dataframe tbody tr th {\n",
       "        vertical-align: top;\n",
       "    }\n",
       "\n",
       "    .dataframe thead th {\n",
       "        text-align: right;\n",
       "    }\n",
       "</style>\n",
       "<table border=\"1\" class=\"dataframe\">\n",
       "  <thead>\n",
       "    <tr style=\"text-align: right;\">\n",
       "      <th></th>\n",
       "      <th>index</th>\n",
       "      <th>ID10</th>\n",
       "      <th>ID20</th>\n",
       "      <th>STATE_2020</th>\n",
       "      <th>ID10_mapped</th>\n",
       "      <th>ID10_mapped_bypass</th>\n",
       "    </tr>\n",
       "  </thead>\n",
       "  <tbody>\n",
       "    <tr>\n",
       "      <th>214215</th>\n",
       "      <td>214215</td>\n",
       "      <td>51499526003114</td>\n",
       "      <td>51499526003079</td>\n",
       "      <td>5</td>\n",
       "      <td>{51499526003114: 1}</td>\n",
       "      <td>{51499526003114: 1}</td>\n",
       "    </tr>\n",
       "  </tbody>\n",
       "</table>\n",
       "</div>"
      ],
      "text/plain": [
       "         index            ID10            ID20  STATE_2020  \\\n",
       "214215  214215  51499526003114  51499526003079  5            \n",
       "\n",
       "                ID10_mapped   ID10_mapped_bypass  \n",
       "214215  {51499526003114: 1}  {51499526003114: 1}  "
      ]
     },
     "execution_count": 205,
     "metadata": {},
     "output_type": "execute_result"
    }
   ],
   "source": [
    "mapper_df[mapper_df.ID20==51499526003079]"
   ]
  },
  {
   "cell_type": "code",
   "execution_count": 206,
   "id": "652f6eb3-a2f0-45ff-a17a-283fdc470e4a",
   "metadata": {},
   "outputs": [
    {
     "data": {
      "text/html": [
       "<div>\n",
       "<style scoped>\n",
       "    .dataframe tbody tr th:only-of-type {\n",
       "        vertical-align: middle;\n",
       "    }\n",
       "\n",
       "    .dataframe tbody tr th {\n",
       "        vertical-align: top;\n",
       "    }\n",
       "\n",
       "    .dataframe thead th {\n",
       "        text-align: right;\n",
       "    }\n",
       "</style>\n",
       "<table border=\"1\" class=\"dataframe\">\n",
       "  <thead>\n",
       "    <tr style=\"text-align: right;\">\n",
       "      <th></th>\n",
       "      <th>GEOID10</th>\n",
       "      <th>H7V001</th>\n",
       "    </tr>\n",
       "  </thead>\n",
       "  <tbody>\n",
       "    <tr>\n",
       "      <th>3005741</th>\n",
       "      <td>51499526003114</td>\n",
       "      <td>8</td>\n",
       "    </tr>\n",
       "  </tbody>\n",
       "</table>\n",
       "</div>"
      ],
      "text/plain": [
       "                GEOID10  H7V001\n",
       "3005741  51499526003114  8     "
      ]
     },
     "execution_count": 206,
     "metadata": {},
     "output_type": "execute_result"
    }
   ],
   "source": [
    "block10[block10.GEOID10==51499526003114]"
   ]
  },
  {
   "cell_type": "code",
   "execution_count": 207,
   "id": "38a73f3d-0768-4467-8fee-4f2f7a36f3cb",
   "metadata": {},
   "outputs": [
    {
     "data": {
      "text/html": [
       "<div>\n",
       "<style scoped>\n",
       "    .dataframe tbody tr th:only-of-type {\n",
       "        vertical-align: middle;\n",
       "    }\n",
       "\n",
       "    .dataframe tbody tr th {\n",
       "        vertical-align: top;\n",
       "    }\n",
       "\n",
       "    .dataframe thead th {\n",
       "        text-align: right;\n",
       "    }\n",
       "</style>\n",
       "<table border=\"1\" class=\"dataframe\">\n",
       "  <thead>\n",
       "    <tr style=\"text-align: right;\">\n",
       "      <th></th>\n",
       "      <th>GEOID10</th>\n",
       "      <th>P1</th>\n",
       "      <th>GEOID20</th>\n",
       "      <th>P2</th>\n",
       "      <th>STATEA</th>\n",
       "      <th>INTPTLAT</th>\n",
       "      <th>INTPTLON</th>\n",
       "      <th>COUNTY</th>\n",
       "    </tr>\n",
       "  </thead>\n",
       "  <tbody>\n",
       "    <tr>\n",
       "      <th>227418</th>\n",
       "      <td>51499526003114</td>\n",
       "      <td>8</td>\n",
       "      <td>NaN</td>\n",
       "      <td>NaN</td>\n",
       "      <td>NaN</td>\n",
       "      <td>NaN</td>\n",
       "      <td>NaN</td>\n",
       "      <td>NaN</td>\n",
       "    </tr>\n",
       "  </tbody>\n",
       "</table>\n",
       "</div>"
      ],
      "text/plain": [
       "              GEOID10  P1  GEOID20  P2  STATEA  INTPTLAT  INTPTLON COUNTY\n",
       "227418 51499526003114 8   NaN      NaN NaN     NaN       NaN        NaN  "
      ]
     },
     "execution_count": 207,
     "metadata": {},
     "output_type": "execute_result"
    }
   ],
   "source": [
    "merged_df[merged_df.GEOID10==51499526003114]"
   ]
  },
  {
   "cell_type": "markdown",
   "id": "56d25293-1e81-4c70-a122-deae2b670c1d",
   "metadata": {},
   "source": [
    "#### Bypass continue"
   ]
  },
  {
   "cell_type": "code",
   "execution_count": 221,
   "id": "b1f2883b-fc36-4181-985c-a08f5d9102a5",
   "metadata": {},
   "outputs": [],
   "source": [
    "def calculate_P1_equivalent_bypass(id20):\n",
    "    P1 = 0\n",
    "    if pd.notnull(id20):\n",
    "        d1 = ast.literal_eval(mapper_df[mapper_df.ID20==id20].ID10_mapped_bypass.iloc[0])\n",
    "        # print(d1)\n",
    "        # print(id20)\n",
    "        for index,parts in list(d1.items()):\n",
    "            #print(index,parts)\n",
    "            #print(merged_df[merged_df.GEOID10==index]['P1'])\n",
    "            P1+= merged_df[merged_df.GEOID10==index]['P1'].iloc[0]/parts\n",
    "            #print(P1)\n",
    "        return P1"
   ]
  },
  {
   "cell_type": "code",
   "execution_count": 203,
   "id": "218b0545-f185-4786-b303-d9e43b293a76",
   "metadata": {},
   "outputs": [],
   "source": [
    "# mapper_df.to_csv('mapped_blocks_bypass.csv')"
   ]
  },
  {
   "cell_type": "code",
   "execution_count": 223,
   "id": "083e1780-06cd-44aa-9ea7-e6c413bacaec",
   "metadata": {
    "tags": []
   },
   "outputs": [
    {
     "data": {
      "text/html": [
       "<div>\n",
       "<style scoped>\n",
       "    .dataframe tbody tr th:only-of-type {\n",
       "        vertical-align: middle;\n",
       "    }\n",
       "\n",
       "    .dataframe tbody tr th {\n",
       "        vertical-align: top;\n",
       "    }\n",
       "\n",
       "    .dataframe thead th {\n",
       "        text-align: right;\n",
       "    }\n",
       "</style>\n",
       "<table border=\"1\" class=\"dataframe\">\n",
       "  <thead>\n",
       "    <tr style=\"text-align: right;\">\n",
       "      <th></th>\n",
       "      <th>GEOID10</th>\n",
       "      <th>P1</th>\n",
       "      <th>GEOID20</th>\n",
       "      <th>P2</th>\n",
       "      <th>STATEA</th>\n",
       "      <th>INTPTLAT</th>\n",
       "      <th>INTPTLON</th>\n",
       "      <th>COUNTY</th>\n",
       "      <th>P1_new</th>\n",
       "    </tr>\n",
       "  </thead>\n",
       "  <tbody>\n",
       "    <tr>\n",
       "      <th>0</th>\n",
       "      <td>50014801001000</td>\n",
       "      <td>0</td>\n",
       "      <td>50014801001000</td>\n",
       "      <td>0</td>\n",
       "      <td>5</td>\n",
       "      <td>35</td>\n",
       "      <td>-91</td>\n",
       "      <td>Arkansas County</td>\n",
       "      <td>0</td>\n",
       "    </tr>\n",
       "    <tr>\n",
       "      <th>1</th>\n",
       "      <td>50014801001001</td>\n",
       "      <td>101</td>\n",
       "      <td>50014801001001</td>\n",
       "      <td>103</td>\n",
       "      <td>5</td>\n",
       "      <td>35</td>\n",
       "      <td>-91</td>\n",
       "      <td>Arkansas County</td>\n",
       "      <td>172</td>\n",
       "    </tr>\n",
       "    <tr>\n",
       "      <th>2</th>\n",
       "      <td>50014801001002</td>\n",
       "      <td>0</td>\n",
       "      <td>50014801001002</td>\n",
       "      <td>0</td>\n",
       "      <td>5</td>\n",
       "      <td>35</td>\n",
       "      <td>-91</td>\n",
       "      <td>Arkansas County</td>\n",
       "      <td>0</td>\n",
       "    </tr>\n",
       "    <tr>\n",
       "      <th>3</th>\n",
       "      <td>50014801001003</td>\n",
       "      <td>0</td>\n",
       "      <td>50014801001003</td>\n",
       "      <td>10</td>\n",
       "      <td>5</td>\n",
       "      <td>35</td>\n",
       "      <td>-91</td>\n",
       "      <td>Arkansas County</td>\n",
       "      <td>17</td>\n",
       "    </tr>\n",
       "    <tr>\n",
       "      <th>4</th>\n",
       "      <td>50014801001004</td>\n",
       "      <td>0</td>\n",
       "      <td>50014801001004</td>\n",
       "      <td>66</td>\n",
       "      <td>5</td>\n",
       "      <td>35</td>\n",
       "      <td>-91</td>\n",
       "      <td>Arkansas County</td>\n",
       "      <td>74</td>\n",
       "    </tr>\n",
       "  </tbody>\n",
       "</table>\n",
       "</div>"
      ],
      "text/plain": [
       "         GEOID10  P1        GEOID20  P2  STATEA  INTPTLAT  INTPTLON  \\\n",
       "0 50014801001000 0   50014801001000 0   5       35        -91         \n",
       "1 50014801001001 101 50014801001001 103 5       35        -91         \n",
       "2 50014801001002 0   50014801001002 0   5       35        -91         \n",
       "3 50014801001003 0   50014801001003 10  5       35        -91         \n",
       "4 50014801001004 0   50014801001004 66  5       35        -91         \n",
       "\n",
       "            COUNTY  P1_new  \n",
       "0  Arkansas County 0        \n",
       "1  Arkansas County 172      \n",
       "2  Arkansas County 0        \n",
       "3  Arkansas County 17       \n",
       "4  Arkansas County 74       "
      ]
     },
     "execution_count": 223,
     "metadata": {},
     "output_type": "execute_result"
    }
   ],
   "source": [
    "merged_df['P1_new'] = merged_df['GEOID20'].apply(calculate_P1_equivalent_bypass)\n",
    "merged_df.head()"
   ]
  },
  {
   "cell_type": "code",
   "execution_count": 224,
   "id": "972bc8bd-67a6-4c6b-a78a-1d25716262e2",
   "metadata": {},
   "outputs": [],
   "source": [
    "# merged_df.to_csv('mapped_data_AR.csv')"
   ]
  }
 ],
 "metadata": {
  "kernelspec": {
   "display_name": "Python 3 (ipykernel)",
   "language": "python",
   "name": "python3"
  },
  "language_info": {
   "codemirror_mode": {
    "name": "ipython",
    "version": 3
   },
   "file_extension": ".py",
   "mimetype": "text/x-python",
   "name": "python",
   "nbconvert_exporter": "python",
   "pygments_lexer": "ipython3",
   "version": "3.9.13"
  }
 },
 "nbformat": 4,
 "nbformat_minor": 5
}
