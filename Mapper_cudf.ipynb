{
 "cells": [
  {
   "cell_type": "code",
   "execution_count": 2,
   "id": "a9e480d8-272f-4f73-875c-e965d2566467",
   "metadata": {},
   "outputs": [],
   "source": [
    "import pandas as pd,numpy as np\n",
    "import geopandas as gpd\n",
    "import ast,os,random\n",
    "pd.set_option('display.float_format','{:.0f}'.format)\n",
    "import warnings\n",
    "warnings.filterwarnings('ignore')\n",
    "import cudf\n",
    "# pd.set_option('display.max_colwidth', -1) "
   ]
  },
  {
   "cell_type": "markdown",
   "id": "043ed6e6-d052-4eac-bf14-c809aa8bcc46",
   "metadata": {
    "tags": []
   },
   "source": [
    "#### Load Data"
   ]
  },
  {
   "cell_type": "code",
   "execution_count": 3,
   "id": "a35321e8-39e1-4d6e-9fcc-16900937636e",
   "metadata": {},
   "outputs": [],
   "source": [
    "full_2020_path='census_2020_data/nhgis0007_csv/nhgis0007_ds248_2020_block.csv'\n",
    "full_2010_path='census_2010_data/nhgis0001_ds172_2010_block.csv'"
   ]
  },
  {
   "cell_type": "markdown",
   "id": "4e9bcdef-ca9d-488b-9f07-f0ecf02c37db",
   "metadata": {
    "tags": []
   },
   "source": [
    "#### Prepare 2010 data"
   ]
  },
  {
   "cell_type": "code",
   "execution_count": 4,
   "id": "e39f2b9c-0cf9-491e-92f6-7c790657fa71",
   "metadata": {},
   "outputs": [],
   "source": [
    "full = pd.read_csv(full_2010_path, usecols=['GISJOIN', 'H7V001' ,'STATEA'],encoding='unicode_escape')\n",
    "small = full[ (full.STATEA ==10) | (full.STATEA ==11)] \n",
    "data10 = cudf.from_pandas(small)\n",
    "del(full)"
   ]
  },
  {
   "cell_type": "code",
   "execution_count": 5,
   "id": "566ddf39-691f-4920-8fd6-23e16537f622",
   "metadata": {},
   "outputs": [
    {
     "data": {
      "text/html": [
       "<div>\n",
       "<style scoped>\n",
       "    .dataframe tbody tr th:only-of-type {\n",
       "        vertical-align: middle;\n",
       "    }\n",
       "\n",
       "    .dataframe tbody tr th {\n",
       "        vertical-align: top;\n",
       "    }\n",
       "\n",
       "    .dataframe thead th {\n",
       "        text-align: right;\n",
       "    }\n",
       "</style>\n",
       "<table border=\"1\" class=\"dataframe\">\n",
       "  <thead>\n",
       "    <tr style=\"text-align: right;\">\n",
       "      <th></th>\n",
       "      <th>GISJOIN</th>\n",
       "      <th>STATE</th>\n",
       "      <th>P10</th>\n",
       "    </tr>\n",
       "  </thead>\n",
       "  <tbody>\n",
       "    <tr>\n",
       "      <th>1704220</th>\n",
       "      <td>10000100401001000</td>\n",
       "      <td>10</td>\n",
       "      <td>77</td>\n",
       "    </tr>\n",
       "    <tr>\n",
       "      <th>1704221</th>\n",
       "      <td>10000100401001001</td>\n",
       "      <td>10</td>\n",
       "      <td>294</td>\n",
       "    </tr>\n",
       "    <tr>\n",
       "      <th>1704222</th>\n",
       "      <td>10000100401001002</td>\n",
       "      <td>10</td>\n",
       "      <td>20</td>\n",
       "    </tr>\n",
       "    <tr>\n",
       "      <th>1704223</th>\n",
       "      <td>10000100401001003</td>\n",
       "      <td>10</td>\n",
       "      <td>91</td>\n",
       "    </tr>\n",
       "    <tr>\n",
       "      <th>1704224</th>\n",
       "      <td>10000100401001004</td>\n",
       "      <td>10</td>\n",
       "      <td>53</td>\n",
       "    </tr>\n",
       "  </tbody>\n",
       "</table>\n",
       "</div>"
      ],
      "text/plain": [
       "                   GISJOIN  STATE  P10\n",
       "1704220  10000100401001000     10   77\n",
       "1704221  10000100401001001     10  294\n",
       "1704222  10000100401001002     10   20\n",
       "1704223  10000100401001003     10   91\n",
       "1704224  10000100401001004     10   53"
      ]
     },
     "execution_count": 5,
     "metadata": {},
     "output_type": "execute_result"
    }
   ],
   "source": [
    "data10.GISJOIN = data10.GISJOIN.str.replace('G', '')\n",
    "data10.rename(columns={'H7V001':'P10','STATEA':'STATE'},inplace=True)\n",
    "data10.head()"
   ]
  },
  {
   "cell_type": "code",
   "execution_count": 11,
   "id": "9f222ab2-2840-4c43-8060-85fe01712907",
   "metadata": {},
   "outputs": [],
   "source": [
    "def GISJOIN_to_ID(gisjoin):\n",
    "    return  int(str(gisjoin)[:2] + str(gisjoin)[3:6] + str(gisjoin)[7:])"
   ]
  },
  {
   "cell_type": "code",
   "execution_count": 12,
   "id": "9284745d-68a3-43cc-8f98-c610bd1e898c",
   "metadata": {},
   "outputs": [],
   "source": [
    "data10['ID10'] = data10.to_pandas().GISJOIN.apply(GISJOIN_to_ID)\n",
    "data10.GISJOIN = data10.GISJOIN.astype('int')"
   ]
  },
  {
   "cell_type": "code",
   "execution_count": 13,
   "id": "0c814443-ddec-439e-bd89-e377f2362b5b",
   "metadata": {},
   "outputs": [
    {
     "data": {
      "text/html": [
       "<div>\n",
       "<style scoped>\n",
       "    .dataframe tbody tr th:only-of-type {\n",
       "        vertical-align: middle;\n",
       "    }\n",
       "\n",
       "    .dataframe tbody tr th {\n",
       "        vertical-align: top;\n",
       "    }\n",
       "\n",
       "    .dataframe thead th {\n",
       "        text-align: right;\n",
       "    }\n",
       "</style>\n",
       "<table border=\"1\" class=\"dataframe\">\n",
       "  <thead>\n",
       "    <tr style=\"text-align: right;\">\n",
       "      <th></th>\n",
       "      <th>GISJOIN</th>\n",
       "      <th>STATE</th>\n",
       "      <th>P10</th>\n",
       "      <th>ID10</th>\n",
       "    </tr>\n",
       "  </thead>\n",
       "  <tbody>\n",
       "    <tr>\n",
       "      <th>1704220</th>\n",
       "      <td>10000100401001000</td>\n",
       "      <td>10</td>\n",
       "      <td>77</td>\n",
       "      <td>100010401001000</td>\n",
       "    </tr>\n",
       "    <tr>\n",
       "      <th>1704221</th>\n",
       "      <td>10000100401001001</td>\n",
       "      <td>10</td>\n",
       "      <td>294</td>\n",
       "      <td>100010401001001</td>\n",
       "    </tr>\n",
       "    <tr>\n",
       "      <th>1704222</th>\n",
       "      <td>10000100401001002</td>\n",
       "      <td>10</td>\n",
       "      <td>20</td>\n",
       "      <td>100010401001002</td>\n",
       "    </tr>\n",
       "    <tr>\n",
       "      <th>1704223</th>\n",
       "      <td>10000100401001003</td>\n",
       "      <td>10</td>\n",
       "      <td>91</td>\n",
       "      <td>100010401001003</td>\n",
       "    </tr>\n",
       "    <tr>\n",
       "      <th>1704224</th>\n",
       "      <td>10000100401001004</td>\n",
       "      <td>10</td>\n",
       "      <td>53</td>\n",
       "      <td>100010401001004</td>\n",
       "    </tr>\n",
       "  </tbody>\n",
       "</table>\n",
       "</div>"
      ],
      "text/plain": [
       "                   GISJOIN  STATE  P10             ID10\n",
       "1704220  10000100401001000     10   77  100010401001000\n",
       "1704221  10000100401001001     10  294  100010401001001\n",
       "1704222  10000100401001002     10   20  100010401001002\n",
       "1704223  10000100401001003     10   91  100010401001003\n",
       "1704224  10000100401001004     10   53  100010401001004"
      ]
     },
     "execution_count": 13,
     "metadata": {},
     "output_type": "execute_result"
    }
   ],
   "source": [
    "data10.head()"
   ]
  },
  {
   "cell_type": "markdown",
   "id": "dd85c23e-436c-432a-820d-601c1ddc9324",
   "metadata": {
    "tags": []
   },
   "source": [
    "#### Prepare 2020 data"
   ]
  },
  {
   "cell_type": "code",
   "execution_count": 19,
   "id": "8b9a9d81-30fe-43b3-87ca-40dbfef6085c",
   "metadata": {},
   "outputs": [],
   "source": [
    "full = pd.read_csv(full_2020_path,skiprows=[1],encoding='unicode_escape',usecols=['GEOCODE','GISJOIN','STATEA','COUNTY','U7B001'])\n",
    "small = full[ (full.STATEA ==10) | (full.STATEA ==11)] \n",
    "data20 = cudf.from_pandas(small)\n",
    "del(full)"
   ]
  },
  {
   "cell_type": "code",
   "execution_count": 20,
   "id": "cf0bf0a4-dd54-4625-b20a-1752e84aabbd",
   "metadata": {},
   "outputs": [
    {
     "data": {
      "text/html": [
       "<div>\n",
       "<style scoped>\n",
       "    .dataframe tbody tr th:only-of-type {\n",
       "        vertical-align: middle;\n",
       "    }\n",
       "\n",
       "    .dataframe tbody tr th {\n",
       "        vertical-align: top;\n",
       "    }\n",
       "\n",
       "    .dataframe thead th {\n",
       "        text-align: right;\n",
       "    }\n",
       "</style>\n",
       "<table border=\"1\" class=\"dataframe\">\n",
       "  <thead>\n",
       "    <tr style=\"text-align: right;\">\n",
       "      <th></th>\n",
       "      <th>GISJOIN</th>\n",
       "      <th>ID20</th>\n",
       "      <th>STATE</th>\n",
       "      <th>COUNTY</th>\n",
       "      <th>P20</th>\n",
       "    </tr>\n",
       "  </thead>\n",
       "  <tbody>\n",
       "    <tr>\n",
       "      <th>1216403</th>\n",
       "      <td>10000100401001000</td>\n",
       "      <td>100010401001000</td>\n",
       "      <td>10</td>\n",
       "      <td>Kent County</td>\n",
       "      <td>108</td>\n",
       "    </tr>\n",
       "    <tr>\n",
       "      <th>1216404</th>\n",
       "      <td>10000100401001001</td>\n",
       "      <td>100010401001001</td>\n",
       "      <td>10</td>\n",
       "      <td>Kent County</td>\n",
       "      <td>44</td>\n",
       "    </tr>\n",
       "    <tr>\n",
       "      <th>1216405</th>\n",
       "      <td>10000100401001002</td>\n",
       "      <td>100010401001002</td>\n",
       "      <td>10</td>\n",
       "      <td>Kent County</td>\n",
       "      <td>74</td>\n",
       "    </tr>\n",
       "    <tr>\n",
       "      <th>1216406</th>\n",
       "      <td>10000100401001003</td>\n",
       "      <td>100010401001003</td>\n",
       "      <td>10</td>\n",
       "      <td>Kent County</td>\n",
       "      <td>60</td>\n",
       "    </tr>\n",
       "    <tr>\n",
       "      <th>1216407</th>\n",
       "      <td>10000100401001004</td>\n",
       "      <td>100010401001004</td>\n",
       "      <td>10</td>\n",
       "      <td>Kent County</td>\n",
       "      <td>12</td>\n",
       "    </tr>\n",
       "  </tbody>\n",
       "</table>\n",
       "</div>"
      ],
      "text/plain": [
       "                   GISJOIN             ID20  STATE       COUNTY  P20\n",
       "1216403  10000100401001000  100010401001000     10  Kent County  108\n",
       "1216404  10000100401001001  100010401001001     10  Kent County   44\n",
       "1216405  10000100401001002  100010401001002     10  Kent County   74\n",
       "1216406  10000100401001003  100010401001003     10  Kent County   60\n",
       "1216407  10000100401001004  100010401001004     10  Kent County   12"
      ]
     },
     "execution_count": 20,
     "metadata": {},
     "output_type": "execute_result"
    }
   ],
   "source": [
    "# df = small.copy()\n",
    "data20.rename(columns={'U7B001':'P20','GEOCODE':'ID20','STATEA':'STATE'},inplace=True)\n",
    "data20.GISJOIN = data20.GISJOIN.str.replace('G', '').astype('int')\n",
    "data20.head()"
   ]
  },
  {
   "cell_type": "markdown",
   "id": "de979e52-5821-4448-8d24-a18e207cffe8",
   "metadata": {
    "tags": []
   },
   "source": [
    "### Mapper "
   ]
  },
  {
   "cell_type": "markdown",
   "id": "fa404aeb-7e15-4e60-8808-a167036ab838",
   "metadata": {
    "tags": []
   },
   "source": [
    "#### Concat mapper files for states"
   ]
  },
  {
   "cell_type": "code",
   "execution_count": 21,
   "id": "71392b15-993d-4263-98ff-b10c33f5b701",
   "metadata": {},
   "outputs": [],
   "source": [
    "states = { 10:\"DE\",11:\"DC\"}"
   ]
  },
  {
   "cell_type": "code",
   "execution_count": 22,
   "id": "f3cff1f3-5ec8-45d0-b831-3d3a092908dc",
   "metadata": {},
   "outputs": [],
   "source": [
    "def concat_states_mapper(state_key_list): \n",
    "    \n",
    "    concat_mapper = cudf.DataFrame()\n",
    "    for i in state_key_list:\n",
    "        if i< 10:\n",
    "            i_str = '0'+str(i)\n",
    "        else:\n",
    "            i_str = str(i)\n",
    "        path = 'census_full/mapper_files/tab2010_tab2020_st%s_%s.csv'%(i_str,states[i].lower())\n",
    "        if os.path.isfile(path):    \n",
    "            mapper = cudf.read_csv(path,delimiter='|')\n",
    "            concat_mapper = cudf.concat([concat_mapper,mapper])\n",
    "        else:\n",
    "            print(\"mapper file does not exist\")\n",
    "            continue\n",
    "    return concat_mapper"
   ]
  },
  {
   "cell_type": "code",
   "execution_count": 23,
   "id": "900eaf04-28de-480d-8419-bcf789547a87",
   "metadata": {},
   "outputs": [
    {
     "data": {
      "text/html": [
       "<div>\n",
       "<style scoped>\n",
       "    .dataframe tbody tr th:only-of-type {\n",
       "        vertical-align: middle;\n",
       "    }\n",
       "\n",
       "    .dataframe tbody tr th {\n",
       "        vertical-align: top;\n",
       "    }\n",
       "\n",
       "    .dataframe thead th {\n",
       "        text-align: right;\n",
       "    }\n",
       "</style>\n",
       "<table border=\"1\" class=\"dataframe\">\n",
       "  <thead>\n",
       "    <tr style=\"text-align: right;\">\n",
       "      <th></th>\n",
       "      <th>STATE_2010</th>\n",
       "      <th>COUNTY_2010</th>\n",
       "      <th>TRACT_2010</th>\n",
       "      <th>BLK_2010</th>\n",
       "      <th>BLKSF_2010</th>\n",
       "      <th>AREALAND_2010</th>\n",
       "      <th>AREAWATER_2010</th>\n",
       "      <th>BLOCK_PART_FLAG_O</th>\n",
       "      <th>STATE_2020</th>\n",
       "      <th>COUNTY_2020</th>\n",
       "      <th>TRACT_2020</th>\n",
       "      <th>BLK_2020</th>\n",
       "      <th>BLKSF_2020</th>\n",
       "      <th>AREALAND_2020</th>\n",
       "      <th>AREAWATER_2020</th>\n",
       "      <th>BLOCK_PART_FLAG_R</th>\n",
       "      <th>AREALAND_INT</th>\n",
       "      <th>AREAWATER_INT</th>\n",
       "    </tr>\n",
       "  </thead>\n",
       "  <tbody>\n",
       "    <tr>\n",
       "      <th>0</th>\n",
       "      <td>10</td>\n",
       "      <td>1</td>\n",
       "      <td>40100</td>\n",
       "      <td>1000</td>\n",
       "      <td>&lt;NA&gt;</td>\n",
       "      <td>509097</td>\n",
       "      <td>0</td>\n",
       "      <td>&lt;NA&gt;</td>\n",
       "      <td>10</td>\n",
       "      <td>1</td>\n",
       "      <td>40100</td>\n",
       "      <td>3000</td>\n",
       "      <td>&lt;NA&gt;</td>\n",
       "      <td>509097</td>\n",
       "      <td>0</td>\n",
       "      <td>&lt;NA&gt;</td>\n",
       "      <td>509097</td>\n",
       "      <td>0</td>\n",
       "    </tr>\n",
       "    <tr>\n",
       "      <th>1</th>\n",
       "      <td>10</td>\n",
       "      <td>1</td>\n",
       "      <td>40100</td>\n",
       "      <td>1001</td>\n",
       "      <td>&lt;NA&gt;</td>\n",
       "      <td>3674392</td>\n",
       "      <td>0</td>\n",
       "      <td>&lt;NA&gt;</td>\n",
       "      <td>10</td>\n",
       "      <td>1</td>\n",
       "      <td>40100</td>\n",
       "      <td>3001</td>\n",
       "      <td>&lt;NA&gt;</td>\n",
       "      <td>3674392</td>\n",
       "      <td>0</td>\n",
       "      <td>&lt;NA&gt;</td>\n",
       "      <td>3674392</td>\n",
       "      <td>0</td>\n",
       "    </tr>\n",
       "  </tbody>\n",
       "</table>\n",
       "</div>"
      ],
      "text/plain": [
       "   STATE_2010  COUNTY_2010  TRACT_2010  BLK_2010 BLKSF_2010  AREALAND_2010  \\\n",
       "0          10            1       40100      1000       <NA>         509097   \n",
       "1          10            1       40100      1001       <NA>        3674392   \n",
       "\n",
       "   AREAWATER_2010 BLOCK_PART_FLAG_O  STATE_2020  COUNTY_2020  TRACT_2020  \\\n",
       "0               0              <NA>          10            1       40100   \n",
       "1               0              <NA>          10            1       40100   \n",
       "\n",
       "   BLK_2020 BLKSF_2020  AREALAND_2020  AREAWATER_2020 BLOCK_PART_FLAG_R  \\\n",
       "0      3000       <NA>         509097               0              <NA>   \n",
       "1      3001       <NA>        3674392               0              <NA>   \n",
       "\n",
       "   AREALAND_INT  AREAWATER_INT  \n",
       "0        509097              0  \n",
       "1       3674392              0  "
      ]
     },
     "execution_count": 23,
     "metadata": {},
     "output_type": "execute_result"
    }
   ],
   "source": [
    "mapper_df = concat_states_mapper(states.keys())\n",
    "mapper_df.rename(columns={'﻿STATE_2010':'STATE_2010'},inplace=True) # weird formatting error\n",
    "mapper_df.head(2)"
   ]
  },
  {
   "cell_type": "code",
   "execution_count": 24,
   "id": "94009b6b-f2f1-4b75-b155-a5114426a9c6",
   "metadata": {},
   "outputs": [],
   "source": [
    "# UDF REQUIRED\n",
    "\n",
    "def create_id(row):\n",
    "    print(row)\n",
    "    row.iloc[0] = str((str(row.iloc[0]).rjust(2,'0')))\n",
    "    row.iloc[1] = str(str(row.iloc[1]).rjust(3,'0'))\n",
    "    row.iloc[2] = str(str(row.iloc[2]).rjust(6,'0'))\n",
    "    row.iloc[3] = str(str(row.iloc[3]).rjust(4,'0'))\n",
    "\n",
    "    # print(row[0],row[1],row[2],row[3])\n",
    "    return int(row[0]+row[1]+row[2]+row[3])\n"
   ]
  },
  {
   "cell_type": "code",
   "execution_count": 25,
   "id": "a3b041bc-77d1-47f8-808b-4c67e7fb188f",
   "metadata": {},
   "outputs": [
    {
     "data": {
      "text/html": [
       "<div>\n",
       "<style scoped>\n",
       "    .dataframe tbody tr th:only-of-type {\n",
       "        vertical-align: middle;\n",
       "    }\n",
       "\n",
       "    .dataframe tbody tr th {\n",
       "        vertical-align: top;\n",
       "    }\n",
       "\n",
       "    .dataframe thead th {\n",
       "        text-align: right;\n",
       "    }\n",
       "</style>\n",
       "<table border=\"1\" class=\"dataframe\">\n",
       "  <thead>\n",
       "    <tr style=\"text-align: right;\">\n",
       "      <th></th>\n",
       "      <th>STATE_2010</th>\n",
       "      <th>COUNTY_2010</th>\n",
       "      <th>TRACT_2010</th>\n",
       "      <th>BLK_2010</th>\n",
       "      <th>BLKSF_2010</th>\n",
       "      <th>AREALAND_2010</th>\n",
       "      <th>AREAWATER_2010</th>\n",
       "      <th>BLOCK_PART_FLAG_O</th>\n",
       "      <th>STATE_2020</th>\n",
       "      <th>COUNTY_2020</th>\n",
       "      <th>TRACT_2020</th>\n",
       "      <th>BLK_2020</th>\n",
       "      <th>BLKSF_2020</th>\n",
       "      <th>AREALAND_2020</th>\n",
       "      <th>AREAWATER_2020</th>\n",
       "      <th>BLOCK_PART_FLAG_R</th>\n",
       "      <th>AREALAND_INT</th>\n",
       "      <th>AREAWATER_INT</th>\n",
       "    </tr>\n",
       "  </thead>\n",
       "  <tbody>\n",
       "    <tr>\n",
       "      <th>0</th>\n",
       "      <td>10</td>\n",
       "      <td>1</td>\n",
       "      <td>40100</td>\n",
       "      <td>1000</td>\n",
       "      <td>NaN</td>\n",
       "      <td>509097</td>\n",
       "      <td>0</td>\n",
       "      <td>None</td>\n",
       "      <td>10</td>\n",
       "      <td>1</td>\n",
       "      <td>40100</td>\n",
       "      <td>3000</td>\n",
       "      <td>NaN</td>\n",
       "      <td>509097</td>\n",
       "      <td>0</td>\n",
       "      <td>None</td>\n",
       "      <td>509097</td>\n",
       "      <td>0</td>\n",
       "    </tr>\n",
       "    <tr>\n",
       "      <th>1</th>\n",
       "      <td>10</td>\n",
       "      <td>1</td>\n",
       "      <td>40100</td>\n",
       "      <td>1001</td>\n",
       "      <td>NaN</td>\n",
       "      <td>3674392</td>\n",
       "      <td>0</td>\n",
       "      <td>None</td>\n",
       "      <td>10</td>\n",
       "      <td>1</td>\n",
       "      <td>40100</td>\n",
       "      <td>3001</td>\n",
       "      <td>NaN</td>\n",
       "      <td>3674392</td>\n",
       "      <td>0</td>\n",
       "      <td>None</td>\n",
       "      <td>3674392</td>\n",
       "      <td>0</td>\n",
       "    </tr>\n",
       "  </tbody>\n",
       "</table>\n",
       "</div>"
      ],
      "text/plain": [
       "   STATE_2010  COUNTY_2010  TRACT_2010  BLK_2010  BLKSF_2010  AREALAND_2010  \\\n",
       "0          10            1       40100      1000         NaN         509097   \n",
       "1          10            1       40100      1001         NaN        3674392   \n",
       "\n",
       "   AREAWATER_2010 BLOCK_PART_FLAG_O  STATE_2020  COUNTY_2020  TRACT_2020  \\\n",
       "0               0              None          10            1       40100   \n",
       "1               0              None          10            1       40100   \n",
       "\n",
       "   BLK_2020  BLKSF_2020  AREALAND_2020  AREAWATER_2020 BLOCK_PART_FLAG_R  \\\n",
       "0      3000         NaN         509097               0              None   \n",
       "1      3001         NaN        3674392               0              None   \n",
       "\n",
       "   AREALAND_INT  AREAWATER_INT  \n",
       "0        509097              0  \n",
       "1       3674392              0  "
      ]
     },
     "execution_count": 25,
     "metadata": {},
     "output_type": "execute_result"
    }
   ],
   "source": [
    "test = mapper_df.to_pandas()\n",
    "test.head(2)"
   ]
  },
  {
   "cell_type": "code",
   "execution_count": 26,
   "id": "65cdfa9a-7494-4e19-9eb5-f894abc3abcc",
   "metadata": {},
   "outputs": [
    {
     "data": {
      "text/plain": [
       "cudf.core.dataframe.DataFrame"
      ]
     },
     "execution_count": 26,
     "metadata": {},
     "output_type": "execute_result"
    }
   ],
   "source": [
    "type(mapper_df)"
   ]
  },
  {
   "cell_type": "code",
   "execution_count": null,
   "id": "b7cf30a2-f296-4401-b024-36d7fa9f8455",
   "metadata": {
    "tags": []
   },
   "outputs": [],
   "source": [
    "# LEARN UDF\n",
    "\n",
    "# import cudf\n",
    "# import numpy as np\n",
    "# df = cudf.DataFrame()\n",
    "# nelem = 3\n",
    "# df['in1'] = mapper_df['STATE_2010']\n",
    "# df['in2'] = mapper_df['COUNTY_2010']\n",
    "# df['in3'] = mapper_df['TRACT_2010']\n",
    "# df['in4'] = mapper_df['BLK_2010']\n",
    "\n",
    "# in1 = df['in1']\n",
    "# in2 = df['in2']\n",
    "# in3 = df['in3']\n",
    "# in4 = df['in4']\n",
    "# def kernel(in1, in2, in3, out1, out2, kwarg1, kwarg2):\n",
    "#     for i, (x, y, z,w) in enumerate(zip(in1, in2, in3,in4)):\n",
    "#         out1[i] = kwarg2 * x - kwarg1 * y *w\n",
    "#         out2[i] = y - kwarg1 * z\n",
    "# df.apply_rows(kernel,\n",
    "#               incols=['in1', 'in2', 'in3','in4'],\n",
    "#               outcols=dict(out1=np.float64, out2=np.float64),\n",
    "#               kwargs=dict(kwarg1=3, kwarg2=4))"
   ]
  },
  {
   "cell_type": "code",
   "execution_count": null,
   "id": "9dc58583-f5b8-4d8d-9a7a-2338f86b228a",
   "metadata": {},
   "outputs": [],
   "source": [
    "# import cudf\n",
    "# import numpy as np\n",
    "# df = cudf.DataFrame()\n",
    "# nelem = 3\n",
    "# df['in1'] = np.arange(nelem)\n",
    "# df['in2'] = np.arange(nelem)\n",
    "# df['in3'] = np.arange(nelem)"
   ]
  },
  {
   "cell_type": "code",
   "execution_count": null,
   "id": "4d6768d9-0d8e-4a48-9b63-f535655c2a7a",
   "metadata": {},
   "outputs": [],
   "source": [
    "# in1 = mapper_df['STATE_2010']\n",
    "# in2 = mapper_df['COUNTY_2010']\n",
    "# in3 = mapper_df['TRACT_2010']\n",
    "# in4 = mapper_df['BLK_2010']\n",
    "# def kernel(in1, in2, in3,in4, out1, out2, kwarg1, kwarg2):\n",
    "#     for i, (x, y, z) in enumerate(zip(in1, in2, in3,in4)):\n",
    "#         out1[i] = kwarg2 * x - kwarg1 * y\n",
    "#         out2[i] = y - kwarg1 * z"
   ]
  },
  {
   "cell_type": "code",
   "execution_count": null,
   "id": "ff9fcde3-e87a-4c34-8bf6-e776b97cf2cf",
   "metadata": {},
   "outputs": [],
   "source": [
    "# df.apply_rows(kernel,\n",
    "#               incols=['in1', 'in2', 'in3','in4'],\n",
    "#               outcols=dict(out1=np.float64, out2=np.float64),\n",
    "#               kwargs=dict(kwarg1=3, kwarg2=4))"
   ]
  },
  {
   "cell_type": "code",
   "execution_count": null,
   "id": "659595d3-fb33-4880-b673-e776af1428bb",
   "metadata": {},
   "outputs": [],
   "source": [
    "# def tp(in1,in2,out1,kwarg1):\n",
    "#     for i, (x,y) in enumerate(zip(in1,in2)):\n",
    "#         out1[i]= x + y"
   ]
  },
  {
   "cell_type": "code",
   "execution_count": null,
   "id": "518adc68-692e-4685-8730-0416be086e97",
   "metadata": {},
   "outputs": [],
   "source": [
    "# mapper_df.apply_rows(tp,incols=['in1','in2'],outcols=dict(out1=np.float64),kwargs=dict(kwarg1=3))"
   ]
  },
  {
   "cell_type": "code",
   "execution_count": null,
   "id": "3798e41c-afac-4da8-85d0-b91e133fe63a",
   "metadata": {
    "tags": []
   },
   "outputs": [],
   "source": [
    "mapper_df['ID10']= mapper_df[['STATE_2010','COUNTY_2010','TRACT_2010','BLK_2010']].apply(create_id,axis=1)\n",
    "mapper_df['ID20']= mapper_df[['STATE_2020','COUNTY_2020','TRACT_2020','BLK_2020']].apply(create_id,axis=1)\n",
    "mapper_df = mapper_df[['ID10','ID20','STATE_2020']].reset_index()\n",
    "mapper_df.head()"
   ]
  },
  {
   "cell_type": "markdown",
   "id": "8ddafa01-908d-4404-839b-217683d3b0de",
   "metadata": {
    "jp-MarkdownHeadingCollapsed": true,
    "tags": []
   },
   "source": [
    "#### Out of state blocks"
   ]
  },
  {
   "cell_type": "code",
   "execution_count": null,
   "id": "e31b6cb9-dd01-44cb-8970-0d57bfe24a28",
   "metadata": {},
   "outputs": [],
   "source": [
    "mapper[mapper.STATE_2010!=5].sample(5)"
   ]
  },
  {
   "cell_type": "code",
   "execution_count": null,
   "id": "5679a628-28d2-4a8c-a760-6777d2d103bc",
   "metadata": {},
   "outputs": [],
   "source": [
    "mapper[mapper.STATE_2010!=5].STATE_2010.value_counts()"
   ]
  },
  {
   "cell_type": "markdown",
   "id": "02e10ddb-4a2b-4345-b927-922f534796f8",
   "metadata": {
    "tags": []
   },
   "source": [
    "#### Create Mapped IDs"
   ]
  },
  {
   "cell_type": "code",
   "execution_count": null,
   "id": "31f7339a-a185-41b5-b142-d83402cb13a6",
   "metadata": {},
   "outputs": [],
   "source": [
    "# UDF required\n",
    "\n",
    "\n",
    "def map_to_ID10(x):\n",
    "    filtered_df = mapper_df[mapper_df.ID20 ==x]\n",
    "    ids = filtered_df.ID10.tolist()\n",
    "    id_dict = {id10:len(mapper_df[mapper_df.ID10 == id10]) for id10 in ids}\n",
    "    return id_dict"
   ]
  },
  {
   "cell_type": "code",
   "execution_count": null,
   "id": "aeaa11b6-9cfd-4fa7-b6e7-558c2d7c3db5",
   "metadata": {},
   "outputs": [],
   "source": [
    "mapper_df['ID10_mapped'] = mapper_df.ID20.apply(map_to_ID10)\n",
    "mapper_df.head()"
   ]
  },
  {
   "cell_type": "code",
   "execution_count": null,
   "id": "8f0638dd-66c7-434a-8ce5-b572741af0fa",
   "metadata": {},
   "outputs": [],
   "source": [
    "mapper_df =mapper_df.drop_duplicates('ID20')[['ID20','STATE_2020','ID10_mapped']].sort_values('ID20')\n",
    "mapper_df.head()"
   ]
  },
  {
   "cell_type": "code",
   "execution_count": null,
   "id": "3d8a4a49-c7eb-4220-a5b9-bb87b3c595eb",
   "metadata": {},
   "outputs": [],
   "source": [
    "# #Load mapper\n",
    "# mapper_df.to_csv('census_full/mapped_blocks.csv')\n",
    "# mapper_df = pd.read_csv('census_full/mapped_blocks.csv').drop(columns='Unnamed: 0',axis=1)\n",
    "# mapper_df.head()"
   ]
  },
  {
   "cell_type": "markdown",
   "id": "21f1ed8e-6491-47b5-8361-dbab86481555",
   "metadata": {},
   "source": [
    "#### Calculate new P1"
   ]
  },
  {
   "cell_type": "code",
   "execution_count": null,
   "id": "44f79743-f309-4908-847a-29eff94c3539",
   "metadata": {},
   "outputs": [],
   "source": [
    "# UDF required\n",
    "\n",
    "def calculate_P10_equivalent(id20):\n",
    "    # print(id20)\n",
    "    P1 = 0\n",
    "    d1 = ast.literal_eval(mapper_df[mapper_df.ID20==id20].ID10_mapped.iloc[0])\n",
    "    for index,parts in list(d1.items()):\n",
    "        P1+= data10[data10.ID10==index]['P10'].iloc[0]/parts\n",
    "        #print(P1)\n",
    "    return P1"
   ]
  },
  {
   "cell_type": "code",
   "execution_count": null,
   "id": "4fa32f57-db10-4115-a12f-ec4946b47b0a",
   "metadata": {},
   "outputs": [],
   "source": [
    "# pd.set_option('display.max_colwidth', -1)"
   ]
  },
  {
   "cell_type": "code",
   "execution_count": null,
   "id": "b1d43d48-ba7a-4873-9c4e-b48aa0ed5565",
   "metadata": {
    "tags": []
   },
   "outputs": [],
   "source": [
    "data20['P10_new'] = data20[data20['ID20'].notnull()].to_pandas().ID20.apply(calculate_P10_equivalent)\n",
    "data20.head()"
   ]
  },
  {
   "cell_type": "code",
   "execution_count": null,
   "id": "dbfc11a9-6956-4dea-9a4a-bed7cf56b552",
   "metadata": {},
   "outputs": [],
   "source": [
    "# data20.to_csv('HI_DE_DC_mapped_data.csv')"
   ]
  },
  {
   "cell_type": "markdown",
   "id": "fbb35ce5-c08e-416e-b8c7-0ef90618b2a8",
   "metadata": {
    "jp-MarkdownHeadingCollapsed": true,
    "tags": []
   },
   "source": [
    "### BYPASS OTHER STATES"
   ]
  },
  {
   "cell_type": "code",
   "execution_count": null,
   "id": "7881325d-2f88-44aa-b925-ae7ad9c39689",
   "metadata": {},
   "outputs": [],
   "source": [
    "def map_to_ID10_bypass(x):\n",
    "    filtered_df = mapper_df[(mapper_df.ID20 ==x) & (mapper_df.ID10 >= 5*10**13) & (mapper_df.ID10 <=6*10**13)] # 2010 equivalent blocks of other states bypassed\n",
    "    ids = filtered_df.ID10.tolist()\n",
    "    id_dict = {id10:len(mapper_df[mapper_df.ID10 == id10]) for id10 in ids}\n",
    "    return id_dict"
   ]
  },
  {
   "cell_type": "code",
   "execution_count": null,
   "id": "f2da1fac-fc9c-4faf-8a3f-bc46adb3231d",
   "metadata": {
    "tags": []
   },
   "outputs": [],
   "source": [
    "mapper_df['ID10_mapped_bypass'] = mapper_df.ID20.apply(map_to_ID10_bypass)\n",
    "mapper_df.head()"
   ]
  },
  {
   "cell_type": "code",
   "execution_count": null,
   "id": "45d4554e-2736-4e33-bc4e-692158c83fc9",
   "metadata": {},
   "outputs": [],
   "source": [
    "# mapper_df.to_csv('mapped_blocks_bypass.csv')"
   ]
  },
  {
   "cell_type": "code",
   "execution_count": null,
   "id": "6a148efa-9766-4b09-bc26-2aa7490ee8d0",
   "metadata": {},
   "outputs": [],
   "source": [
    "# mapper_df = pd.read_csv('mapped_blocks_bypass.csv').drop(columns='Unnamed: 0',axis=1)\n",
    "# mapper_df.head(2)"
   ]
  },
  {
   "cell_type": "markdown",
   "id": "00aa2412-5863-43b4-80a9-c96f8030f85c",
   "metadata": {
    "jp-MarkdownHeadingCollapsed": true,
    "tags": []
   },
   "source": [
    "#### Debug mapper"
   ]
  },
  {
   "cell_type": "code",
   "execution_count": null,
   "id": "4d2b9137-8086-48a6-b141-550b27c215eb",
   "metadata": {},
   "outputs": [],
   "source": [
    "mapper_df[mapper_df.ID20==51499526003079]"
   ]
  },
  {
   "cell_type": "code",
   "execution_count": null,
   "id": "652f6eb3-a2f0-45ff-a17a-283fdc470e4a",
   "metadata": {},
   "outputs": [],
   "source": [
    "block10[block10.GEOID10==51499526003114]"
   ]
  },
  {
   "cell_type": "code",
   "execution_count": null,
   "id": "38a73f3d-0768-4467-8fee-4f2f7a36f3cb",
   "metadata": {},
   "outputs": [],
   "source": [
    "merged_df[merged_df.GEOID10==51499526003114]"
   ]
  },
  {
   "cell_type": "markdown",
   "id": "56d25293-1e81-4c70-a122-deae2b670c1d",
   "metadata": {},
   "source": [
    "#### Bypass continue"
   ]
  },
  {
   "cell_type": "code",
   "execution_count": null,
   "id": "b1f2883b-fc36-4181-985c-a08f5d9102a5",
   "metadata": {},
   "outputs": [],
   "source": [
    "def calculate_P1_equivalent_bypass(id20):\n",
    "    P1 = 0\n",
    "    if pd.notnull(id20):\n",
    "        d1 = ast.literal_eval(mapper_df[mapper_df.ID20==id20].ID10_mapped_bypass.iloc[0])\n",
    "        # print(d1)\n",
    "        # print(id20)\n",
    "        for index,parts in list(d1.items()):\n",
    "            #print(index,parts)\n",
    "            #print(merged_df[merged_df.GEOID10==index]['P1'])\n",
    "            P1+= merged_df[merged_df.GEOID10==index]['P1'].iloc[0]/parts\n",
    "            #print(P1)\n",
    "        return P1"
   ]
  },
  {
   "cell_type": "code",
   "execution_count": null,
   "id": "218b0545-f185-4786-b303-d9e43b293a76",
   "metadata": {},
   "outputs": [],
   "source": [
    "# mapper_df.to_csv('mapped_blocks_bypass.csv')"
   ]
  },
  {
   "cell_type": "code",
   "execution_count": null,
   "id": "083e1780-06cd-44aa-9ea7-e6c413bacaec",
   "metadata": {
    "tags": []
   },
   "outputs": [],
   "source": [
    "merged_df['P1_new'] = merged_df['GEOID20'].apply(calculate_P1_equivalent_bypass)\n",
    "merged_df.head()"
   ]
  },
  {
   "cell_type": "code",
   "execution_count": null,
   "id": "972bc8bd-67a6-4c6b-a78a-1d25716262e2",
   "metadata": {},
   "outputs": [],
   "source": [
    "# merged_df.to_csv('mapped_data_AR.csv')"
   ]
  }
 ],
 "metadata": {
  "kernelspec": {
   "display_name": "Python 3 (ipykernel)",
   "language": "python",
   "name": "python3"
  },
  "language_info": {
   "codemirror_mode": {
    "name": "ipython",
    "version": 3
   },
   "file_extension": ".py",
   "mimetype": "text/x-python",
   "name": "python",
   "nbconvert_exporter": "python",
   "pygments_lexer": "ipython3",
   "version": "3.9.13"
  }
 },
 "nbformat": 4,
 "nbformat_minor": 5
}
